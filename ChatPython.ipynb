{
  "nbformat": 4,
  "nbformat_minor": 0,
  "metadata": {
    "colab": {
      "provenance": [],
      "mount_file_id": "1GVbNhda5IB1wEBEPILU_THDC213cE_jt",
      "authorship_tag": "ABX9TyOEGZbLagb8XTokEcssGQWK",
      "include_colab_link": true
    },
    "kernelspec": {
      "name": "python3",
      "display_name": "Python 3"
    },
    "language_info": {
      "name": "python"
    }
  },
  "cells": [
    {
      "cell_type": "markdown",
      "metadata": {
        "id": "view-in-github",
        "colab_type": "text"
      },
      "source": [
        "<a href=\"https://colab.research.google.com/github/eldercamposds/LangChain/blob/teste/ChatPython.ipynb\" target=\"_parent\"><img src=\"https://colab.research.google.com/assets/colab-badge.svg\" alt=\"Open In Colab\"/></a>"
      ]
    },
    {
      "cell_type": "code",
      "source": [
        "%cd /content/drive/MyDrive/Colab Notebooks/LangChain\n",
        "!pip install -r requirements.txt"
      ],
      "metadata": {
        "id": "OrtBolzB7-lv"
      },
      "execution_count": null,
      "outputs": []
    },
    {
      "cell_type": "markdown",
      "source": [
        "# Setup"
      ],
      "metadata": {
        "id": "tKwglH7Q6Jj0"
      }
    },
    {
      "cell_type": "code",
      "execution_count": 2,
      "metadata": {
        "id": "sTG57rWbmrjB"
      },
      "outputs": [],
      "source": [
        "import numpy as np\n",
        "from pinecone import Pinecone\n",
        "import yaml\n",
        "import os"
      ]
    },
    {
      "cell_type": "code",
      "source": [
        "with open('/content/drive/MyDrive/Colab Notebooks/LangChain/config.yaml', 'r') as config_file:\n",
        "  config = yaml.safe_load(config_file)\n",
        "\n",
        "os.environ['PINECONE_API_KEY'] = config['PINECONE_API_KEY']"
      ],
      "metadata": {
        "id": "bmfbOfLW1pp9"
      },
      "execution_count": 3,
      "outputs": []
    },
    {
      "cell_type": "code",
      "source": [
        "pinecone_client = Pinecone()"
      ],
      "metadata": {
        "id": "xAMyUFHanckJ"
      },
      "execution_count": 4,
      "outputs": []
    },
    {
      "cell_type": "markdown",
      "source": [
        "#Pinecone"
      ],
      "metadata": {
        "id": "TBjKV5Rv6MV7"
      }
    },
    {
      "cell_type": "code",
      "source": [
        "indices = pinecone_client.list_indexes() #retorna lista de todos os index do pinecone\n",
        "for index in indices:\n",
        "  index_name = index['name']\n",
        "  print(f\"Index: {index_name}\")\n",
        "  print(pinecone_client.describe_index(index_name))"
      ],
      "metadata": {
        "id": "c_m-ojXl2H2D",
        "colab": {
          "base_uri": "https://localhost:8080/"
        },
        "outputId": "57498dbd-ca60-4678-c7bb-2d607f70a9b7"
      },
      "execution_count": 5,
      "outputs": [
        {
          "output_type": "stream",
          "name": "stdout",
          "text": [
            "Index: nlp\n",
            "{'dimension': 2048,\n",
            " 'host': 'nlp-ptq58qc.svc.aped-4627-b74a.pinecone.io',\n",
            " 'metric': 'cosine',\n",
            " 'name': 'nlp',\n",
            " 'spec': {'serverless': {'cloud': 'aws', 'region': 'us-east-1'}},\n",
            " 'status': {'ready': True, 'state': 'Ready'}}\n"
          ]
        }
      ]
    },
    {
      "cell_type": "code",
      "source": [
        "indice_name = 'nlp'"
      ],
      "metadata": {
        "id": "2VUSW-ziBmUL"
      },
      "execution_count": 6,
      "outputs": []
    },
    {
      "cell_type": "code",
      "source": [
        "vetores = [np.random.normal(0,1,2048).tolist() for _ in range(5)] # criando 5 listas com distribuição normal, média 0, desvio padrão 1 e 2048 valores\n",
        "ids = [\"a\", \"b\", \"c\", \"d\", \"e\"] #identiifcadores para os vetores\n",
        "indice = pinecone_client.Index(indice_name)\n",
        "indice.upsert(vectors=list(zip(ids, vetores)))#upset cria ou atualiza o indice"
      ],
      "metadata": {
        "colab": {
          "base_uri": "https://localhost:8080/"
        },
        "id": "AEzfEfyFojPA",
        "outputId": "716b074d-9895-404d-d60a-6cb2f999e4b4"
      },
      "execution_count": 7,
      "outputs": [
        {
          "output_type": "execute_result",
          "data": {
            "text/plain": [
              "{'upserted_count': 5}"
            ]
          },
          "metadata": {},
          "execution_count": 7
        }
      ]
    },
    {
      "cell_type": "code",
      "source": [
        "print(indice.fetch(ids=[\"c\"]))\n",
        "#0.409804225 primeiro valor do indice"
      ],
      "metadata": {
        "id": "OTAtXJFCrQnh"
      },
      "execution_count": null,
      "outputs": []
    },
    {
      "cell_type": "code",
      "source": [
        "response = indice.fetch(ids=[\"c\"])\n",
        "if 'vctors' in response and 'c' in response['vectors']:\n",
        "  retorna_valor = response['vectors']['c']['values']\n",
        "  atualiza_valor = [x + 1 for x in retorna_valor]\n",
        "  indice.upset(vectors=[('c', atualiza_valor)])\n",
        "  print(indice.fetch(ids=['c']))\n",
        "else:\n",
        "  print('Vetor não encontrado!')"
      ],
      "metadata": {
        "colab": {
          "base_uri": "https://localhost:8080/"
        },
        "id": "34ver-9_tSe_",
        "outputId": "6ab792ca-c25e-47fd-e19e-768ceb09a725"
      },
      "execution_count": 9,
      "outputs": [
        {
          "output_type": "stream",
          "name": "stdout",
          "text": [
            "Vetor não encontrado!\n"
          ]
        }
      ]
    },
    {
      "cell_type": "code",
      "source": [
        "indice.delete(ids=['d','e'])"
      ],
      "metadata": {
        "colab": {
          "base_uri": "https://localhost:8080/"
        },
        "id": "asHbsh6RucdF",
        "outputId": "f8d2b100-35ce-4519-8ff8-2bf2bea27383"
      },
      "execution_count": 10,
      "outputs": [
        {
          "output_type": "execute_result",
          "data": {
            "text/plain": [
              "{}"
            ]
          },
          "metadata": {},
          "execution_count": 10
        }
      ]
    },
    {
      "cell_type": "code",
      "source": [
        "print(indice.fetch(ids=['d','e']))"
      ],
      "metadata": {
        "id": "sp7Fi90Yut8X"
      },
      "execution_count": null,
      "outputs": []
    },
    {
      "cell_type": "code",
      "source": [
        "print(indice.describe_index_stats()) #descrição dos indices"
      ],
      "metadata": {
        "colab": {
          "base_uri": "https://localhost:8080/"
        },
        "id": "wcvsb2k2u02Q",
        "outputId": "4b848397-3231-4dc9-a09d-d7a8d56a2cc6"
      },
      "execution_count": 13,
      "outputs": [
        {
          "output_type": "stream",
          "name": "stdout",
          "text": [
            "{'dimension': 2048,\n",
            " 'index_fullness': 0.0,\n",
            " 'namespaces': {'': {'vector_count': 5},\n",
            "                'namespace1': {'vector_count': 5},\n",
            "                'namespace2': {'vector_count': 3}},\n",
            " 'total_vector_count': 13}\n"
          ]
        }
      ]
    },
    {
      "cell_type": "code",
      "source": [
        "indice.upsert(vectors=list(zip(ids, vetores)), namespace=\"namespace1\") # se não for definido o namespace será criado um namespace com nome em branco\n",
        "indice.upsert(vectors=list(zip([\"x\", \"y\", \"z\"],\n",
        "                                [np.random.normal(0, 1, 2048).tolist() for _ in range(3)])),\n",
        "                                 namespace=\"namespace2\")# criando segundo namespace com 3 indices"
      ],
      "metadata": {
        "colab": {
          "base_uri": "https://localhost:8080/"
        },
        "id": "oWOx7dTvu6dW",
        "outputId": "0f391852-f4fc-43cb-d7be-6e4ce86e0899"
      },
      "execution_count": 14,
      "outputs": [
        {
          "output_type": "execute_result",
          "data": {
            "text/plain": [
              "{'upserted_count': 3}"
            ]
          },
          "metadata": {},
          "execution_count": 14
        }
      ]
    },
    {
      "cell_type": "code",
      "source": [
        "print(indice.fetch(ids=['a'], namespace=\"namespace1\"))"
      ],
      "metadata": {
        "id": "Kmx--ViwxQvp"
      },
      "execution_count": null,
      "outputs": []
    },
    {
      "cell_type": "code",
      "source": [
        "print(indice.fetch(ids=['x'], namespace=\"namespace2\"))"
      ],
      "metadata": {
        "id": "2HIJji5ETp-M"
      },
      "execution_count": null,
      "outputs": []
    },
    {
      "cell_type": "code",
      "source": [
        "indice.delete(ids=['x'], namespace=\"namespace2\")\n",
        "print(indice.fetch(ids=['x'], namespace=\"namespace2\"))"
      ],
      "metadata": {
        "colab": {
          "base_uri": "https://localhost:8080/"
        },
        "id": "dAmLBKFnTrck",
        "outputId": "f9f4fb2e-0212-4b79-c0ad-c8ff5f7cf50c"
      },
      "execution_count": 17,
      "outputs": [
        {
          "output_type": "stream",
          "name": "stdout",
          "text": [
            "{'namespace': 'namespace2', 'usage': {'read_units': 1}, 'vectors': {}}\n"
          ]
        }
      ]
    },
    {
      "cell_type": "code",
      "source": [
        "query_vector = np.random.normal(0, 1, 2048).tolist()\n",
        "print(indice.query(vector=query_vector, top_k=3, include_values=False))\n"
      ],
      "metadata": {
        "colab": {
          "base_uri": "https://localhost:8080/"
        },
        "id": "ESjWG57RT9YD",
        "outputId": "75f571ca-7bf5-4e23-bc5f-67e302a0c765"
      },
      "execution_count": 18,
      "outputs": [
        {
          "output_type": "stream",
          "name": "stdout",
          "text": [
            "{'matches': [{'id': 'b', 'score': 0.0206540599, 'values': []},\n",
            "             {'id': 'c', 'score': 0.00436178409, 'values': []},\n",
            "             {'id': 'a', 'score': -0.0109398179, 'values': []}],\n",
            " 'namespace': '',\n",
            " 'usage': {'read_units': 5}}\n"
          ]
        }
      ]
    },
    {
      "cell_type": "code",
      "source": [],
      "metadata": {
        "id": "t-1ZYRTcUZ3T"
      },
      "execution_count": null,
      "outputs": []
    }
  ]
}