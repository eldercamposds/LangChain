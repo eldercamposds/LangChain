{
  "nbformat": 4,
  "nbformat_minor": 0,
  "metadata": {
    "colab": {
      "provenance": [],
      "mount_file_id": "1GVbNhda5IB1wEBEPILU_THDC213cE_jt",
      "authorship_tag": "ABX9TyPANujrXS5vtKkn6pOWekmd",
      "include_colab_link": true
    },
    "kernelspec": {
      "name": "python3",
      "display_name": "Python 3"
    },
    "language_info": {
      "name": "python"
    }
  },
  "cells": [
    {
      "cell_type": "markdown",
      "metadata": {
        "id": "view-in-github",
        "colab_type": "text"
      },
      "source": [
        "<a href=\"https://colab.research.google.com/github/eldercamposds/LangChain/blob/teste/ChatPython.ipynb\" target=\"_parent\"><img src=\"https://colab.research.google.com/assets/colab-badge.svg\" alt=\"Open In Colab\"/></a>"
      ]
    },
    {
      "cell_type": "code",
      "source": [
        "%cd /content/drive/MyDrive/Colab Notebooks/LangChain\n",
        "!pip install -r requirements.txt"
      ],
      "metadata": {
        "colab": {
          "base_uri": "https://localhost:8080/"
        },
        "id": "OrtBolzB7-lv",
        "outputId": "d5459a6c-deba-4155-a9d5-4859c625843a"
      },
      "execution_count": 1,
      "outputs": [
        {
          "output_type": "stream",
          "name": "stdout",
          "text": [
            "/content/drive/MyDrive/Colab Notebooks/LangChain\n",
            "Collecting langchain_openai==0.1.16 (from -r requirements.txt (line 1))\n",
            "  Downloading langchain_openai-0.1.16-py3-none-any.whl.metadata (2.5 kB)\n",
            "Collecting langchain_experimental==0.0.62 (from -r requirements.txt (line 2))\n",
            "  Downloading langchain_experimental-0.0.62-py3-none-any.whl.metadata (1.5 kB)\n",
            "Collecting langchainhub==0.1.20 (from -r requirements.txt (line 3))\n",
            "  Downloading langchainhub-0.1.20-py3-none-any.whl.metadata (659 bytes)\n",
            "Collecting pinecone-client==4.1.2 (from -r requirements.txt (line 4))\n",
            "  Downloading pinecone_client-4.1.2-py3-none-any.whl.metadata (16 kB)\n",
            "Collecting PyMuPDF==1.24.7 (from -r requirements.txt (line 5))\n",
            "  Downloading PyMuPDF-1.24.7-cp310-none-manylinux2014_x86_64.whl.metadata (3.4 kB)\n",
            "Collecting langchain==0.2.7 (from -r requirements.txt (line 6))\n",
            "  Downloading langchain-0.2.7-py3-none-any.whl.metadata (6.9 kB)\n",
            "Collecting wikipedia==1.4.0 (from -r requirements.txt (line 7))\n",
            "  Downloading wikipedia-1.4.0.tar.gz (27 kB)\n",
            "  Preparing metadata (setup.py) ... \u001b[?25l\u001b[?25hdone\n",
            "Collecting openai==1.35.13 (from -r requirements.txt (line 8))\n",
            "  Downloading openai-1.35.13-py3-none-any.whl.metadata (21 kB)\n",
            "Requirement already satisfied: numpy==1.26.4 in /usr/local/lib/python3.10/dist-packages (from -r requirements.txt (line 9)) (1.26.4)\n",
            "Collecting streamlit==1.36.0 (from -r requirements.txt (line 10))\n",
            "  Downloading streamlit-1.36.0-py2.py3-none-any.whl.metadata (8.5 kB)\n",
            "Requirement already satisfied: numexpr==2.10.1 in /usr/local/lib/python3.10/dist-packages (from -r requirements.txt (line 11)) (2.10.1)\n",
            "Requirement already satisfied: pandas-datareader==0.10.0 in /usr/local/lib/python3.10/dist-packages (from -r requirements.txt (line 12)) (0.10.0)\n",
            "Collecting duckduckgo_search==6.1.12 (from -r requirements.txt (line 13))\n",
            "  Downloading duckduckgo_search-6.1.12-py3-none-any.whl.metadata (24 kB)\n",
            "Collecting scikit-learn==1.5.1 (from -r requirements.txt (line 14))\n",
            "  Downloading scikit_learn-1.5.1-cp310-cp310-manylinux_2_17_x86_64.manylinux2014_x86_64.whl.metadata (12 kB)\n",
            "Collecting matplotlib==3.9.1 (from -r requirements.txt (line 15))\n",
            "  Downloading matplotlib-3.9.1-cp310-cp310-manylinux_2_17_x86_64.manylinux2014_x86_64.whl.metadata (11 kB)\n",
            "Collecting ipywidgets==8.1.3 (from -r requirements.txt (line 16))\n",
            "  Downloading ipywidgets-8.1.3-py3-none-any.whl.metadata (2.4 kB)\n",
            "Collecting tqdm==4.66.4 (from -r requirements.txt (line 17))\n",
            "  Downloading tqdm-4.66.4-py3-none-any.whl.metadata (57 kB)\n",
            "\u001b[2K     \u001b[90m━━━━━━━━━━━━━━━━━━━━━━━━━━━━━━━━━━━━━━━━\u001b[0m \u001b[32m57.6/57.6 kB\u001b[0m \u001b[31m2.6 MB/s\u001b[0m eta \u001b[36m0:00:00\u001b[0m\n",
            "\u001b[?25hCollecting ipykernel==6.29.5 (from -r requirements.txt (line 18))\n",
            "  Downloading ipykernel-6.29.5-py3-none-any.whl.metadata (6.3 kB)\n",
            "Collecting PyYAML==6.0.1 (from -r requirements.txt (line 19))\n",
            "  Downloading PyYAML-6.0.1-cp310-cp310-manylinux_2_17_x86_64.manylinux2014_x86_64.whl.metadata (2.1 kB)\n",
            "Collecting langchain-google-genai==1.0.7 (from -r requirements.txt (line 20))\n",
            "  Downloading langchain_google_genai-1.0.7-py3-none-any.whl.metadata (3.8 kB)\n",
            "Collecting langchain-core<0.3.0,>=0.2.17 (from langchain_openai==0.1.16->-r requirements.txt (line 1))\n",
            "  Downloading langchain_core-0.2.41-py3-none-any.whl.metadata (6.2 kB)\n",
            "Collecting tiktoken<1,>=0.7 (from langchain_openai==0.1.16->-r requirements.txt (line 1))\n",
            "  Downloading tiktoken-0.7.0-cp310-cp310-manylinux_2_17_x86_64.manylinux2014_x86_64.whl.metadata (6.6 kB)\n",
            "Collecting langchain-community<0.3.0,>=0.2.6 (from langchain_experimental==0.0.62->-r requirements.txt (line 2))\n",
            "  Downloading langchain_community-0.2.17-py3-none-any.whl.metadata (2.7 kB)\n",
            "Requirement already satisfied: packaging<25,>=23.2 in /usr/local/lib/python3.10/dist-packages (from langchainhub==0.1.20->-r requirements.txt (line 3)) (24.1)\n",
            "Requirement already satisfied: requests<3,>=2 in /usr/local/lib/python3.10/dist-packages (from langchainhub==0.1.20->-r requirements.txt (line 3)) (2.32.3)\n",
            "Collecting types-requests<3.0.0.0,>=2.31.0.2 (from langchainhub==0.1.20->-r requirements.txt (line 3))\n",
            "  Downloading types_requests-2.32.0.20240914-py3-none-any.whl.metadata (1.9 kB)\n",
            "Requirement already satisfied: certifi>=2019.11.17 in /usr/local/lib/python3.10/dist-packages (from pinecone-client==4.1.2->-r requirements.txt (line 4)) (2024.8.30)\n",
            "Collecting pinecone-plugin-interface<0.0.8,>=0.0.7 (from pinecone-client==4.1.2->-r requirements.txt (line 4))\n",
            "  Downloading pinecone_plugin_interface-0.0.7-py3-none-any.whl.metadata (1.2 kB)\n",
            "Requirement already satisfied: typing-extensions>=3.7.4 in /usr/local/lib/python3.10/dist-packages (from pinecone-client==4.1.2->-r requirements.txt (line 4)) (4.12.2)\n",
            "Requirement already satisfied: urllib3>=1.26.0 in /usr/local/lib/python3.10/dist-packages (from pinecone-client==4.1.2->-r requirements.txt (line 4)) (2.2.3)\n",
            "Collecting PyMuPDFb==1.24.6 (from PyMuPDF==1.24.7->-r requirements.txt (line 5))\n",
            "  Downloading PyMuPDFb-1.24.6-py3-none-manylinux2014_x86_64.manylinux_2_17_x86_64.whl.metadata (1.4 kB)\n",
            "Requirement already satisfied: SQLAlchemy<3,>=1.4 in /usr/local/lib/python3.10/dist-packages (from langchain==0.2.7->-r requirements.txt (line 6)) (2.0.35)\n",
            "Requirement already satisfied: aiohttp<4.0.0,>=3.8.3 in /usr/local/lib/python3.10/dist-packages (from langchain==0.2.7->-r requirements.txt (line 6)) (3.10.5)\n",
            "Requirement already satisfied: async-timeout<5.0.0,>=4.0.0 in /usr/local/lib/python3.10/dist-packages (from langchain==0.2.7->-r requirements.txt (line 6)) (4.0.3)\n",
            "Collecting langchain-text-splitters<0.3.0,>=0.2.0 (from langchain==0.2.7->-r requirements.txt (line 6))\n",
            "  Downloading langchain_text_splitters-0.2.4-py3-none-any.whl.metadata (2.3 kB)\n",
            "Collecting langsmith<0.2.0,>=0.1.17 (from langchain==0.2.7->-r requirements.txt (line 6))\n",
            "  Downloading langsmith-0.1.129-py3-none-any.whl.metadata (13 kB)\n",
            "Requirement already satisfied: pydantic<3,>=1 in /usr/local/lib/python3.10/dist-packages (from langchain==0.2.7->-r requirements.txt (line 6)) (2.9.2)\n",
            "Collecting tenacity!=8.4.0,<9.0.0,>=8.1.0 (from langchain==0.2.7->-r requirements.txt (line 6))\n",
            "  Downloading tenacity-8.5.0-py3-none-any.whl.metadata (1.2 kB)\n",
            "Requirement already satisfied: beautifulsoup4 in /usr/local/lib/python3.10/dist-packages (from wikipedia==1.4.0->-r requirements.txt (line 7)) (4.12.3)\n",
            "Requirement already satisfied: anyio<5,>=3.5.0 in /usr/local/lib/python3.10/dist-packages (from openai==1.35.13->-r requirements.txt (line 8)) (3.7.1)\n",
            "Requirement already satisfied: distro<2,>=1.7.0 in /usr/lib/python3/dist-packages (from openai==1.35.13->-r requirements.txt (line 8)) (1.7.0)\n",
            "Collecting httpx<1,>=0.23.0 (from openai==1.35.13->-r requirements.txt (line 8))\n",
            "  Downloading httpx-0.27.2-py3-none-any.whl.metadata (7.1 kB)\n",
            "Requirement already satisfied: sniffio in /usr/local/lib/python3.10/dist-packages (from openai==1.35.13->-r requirements.txt (line 8)) (1.3.1)\n",
            "Requirement already satisfied: altair<6,>=4.0 in /usr/local/lib/python3.10/dist-packages (from streamlit==1.36.0->-r requirements.txt (line 10)) (4.2.2)\n",
            "Requirement already satisfied: blinker<2,>=1.0.0 in /usr/lib/python3/dist-packages (from streamlit==1.36.0->-r requirements.txt (line 10)) (1.4)\n",
            "Requirement already satisfied: cachetools<6,>=4.0 in /usr/local/lib/python3.10/dist-packages (from streamlit==1.36.0->-r requirements.txt (line 10)) (5.5.0)\n",
            "Requirement already satisfied: click<9,>=7.0 in /usr/local/lib/python3.10/dist-packages (from streamlit==1.36.0->-r requirements.txt (line 10)) (8.1.7)\n",
            "Requirement already satisfied: pandas<3,>=1.3.0 in /usr/local/lib/python3.10/dist-packages (from streamlit==1.36.0->-r requirements.txt (line 10)) (2.1.4)\n",
            "Requirement already satisfied: pillow<11,>=7.1.0 in /usr/local/lib/python3.10/dist-packages (from streamlit==1.36.0->-r requirements.txt (line 10)) (10.4.0)\n",
            "Requirement already satisfied: protobuf<6,>=3.20 in /usr/local/lib/python3.10/dist-packages (from streamlit==1.36.0->-r requirements.txt (line 10)) (3.20.3)\n",
            "Requirement already satisfied: pyarrow>=7.0 in /usr/local/lib/python3.10/dist-packages (from streamlit==1.36.0->-r requirements.txt (line 10)) (14.0.2)\n",
            "Requirement already satisfied: rich<14,>=10.14.0 in /usr/local/lib/python3.10/dist-packages (from streamlit==1.36.0->-r requirements.txt (line 10)) (13.8.1)\n",
            "Requirement already satisfied: toml<2,>=0.10.1 in /usr/local/lib/python3.10/dist-packages (from streamlit==1.36.0->-r requirements.txt (line 10)) (0.10.2)\n",
            "Collecting gitpython!=3.1.19,<4,>=3.0.7 (from streamlit==1.36.0->-r requirements.txt (line 10))\n",
            "  Downloading GitPython-3.1.43-py3-none-any.whl.metadata (13 kB)\n",
            "Collecting pydeck<1,>=0.8.0b4 (from streamlit==1.36.0->-r requirements.txt (line 10))\n",
            "  Downloading pydeck-0.9.1-py2.py3-none-any.whl.metadata (4.1 kB)\n",
            "Requirement already satisfied: tornado<7,>=6.0.3 in /usr/local/lib/python3.10/dist-packages (from streamlit==1.36.0->-r requirements.txt (line 10)) (6.3.3)\n",
            "Collecting watchdog<5,>=2.1.5 (from streamlit==1.36.0->-r requirements.txt (line 10))\n",
            "  Downloading watchdog-4.0.2-py3-none-manylinux2014_x86_64.whl.metadata (38 kB)\n",
            "Requirement already satisfied: lxml in /usr/local/lib/python3.10/dist-packages (from pandas-datareader==0.10.0->-r requirements.txt (line 12)) (4.9.4)\n",
            "Collecting pyreqwest-impersonate>=0.4.9 (from duckduckgo_search==6.1.12->-r requirements.txt (line 13))\n",
            "  Downloading pyreqwest_impersonate-0.5.3-cp38-abi3-manylinux_2_17_x86_64.manylinux2014_x86_64.whl.metadata (10 kB)\n",
            "Requirement already satisfied: scipy>=1.6.0 in /usr/local/lib/python3.10/dist-packages (from scikit-learn==1.5.1->-r requirements.txt (line 14)) (1.13.1)\n",
            "Requirement already satisfied: joblib>=1.2.0 in /usr/local/lib/python3.10/dist-packages (from scikit-learn==1.5.1->-r requirements.txt (line 14)) (1.4.2)\n",
            "Requirement already satisfied: threadpoolctl>=3.1.0 in /usr/local/lib/python3.10/dist-packages (from scikit-learn==1.5.1->-r requirements.txt (line 14)) (3.5.0)\n",
            "Requirement already satisfied: contourpy>=1.0.1 in /usr/local/lib/python3.10/dist-packages (from matplotlib==3.9.1->-r requirements.txt (line 15)) (1.3.0)\n",
            "Requirement already satisfied: cycler>=0.10 in /usr/local/lib/python3.10/dist-packages (from matplotlib==3.9.1->-r requirements.txt (line 15)) (0.12.1)\n",
            "Requirement already satisfied: fonttools>=4.22.0 in /usr/local/lib/python3.10/dist-packages (from matplotlib==3.9.1->-r requirements.txt (line 15)) (4.53.1)\n",
            "Requirement already satisfied: kiwisolver>=1.3.1 in /usr/local/lib/python3.10/dist-packages (from matplotlib==3.9.1->-r requirements.txt (line 15)) (1.4.7)\n",
            "Requirement already satisfied: pyparsing>=2.3.1 in /usr/local/lib/python3.10/dist-packages (from matplotlib==3.9.1->-r requirements.txt (line 15)) (3.1.4)\n",
            "Requirement already satisfied: python-dateutil>=2.7 in /usr/local/lib/python3.10/dist-packages (from matplotlib==3.9.1->-r requirements.txt (line 15)) (2.8.2)\n",
            "Collecting comm>=0.1.3 (from ipywidgets==8.1.3->-r requirements.txt (line 16))\n",
            "  Downloading comm-0.2.2-py3-none-any.whl.metadata (3.7 kB)\n",
            "Requirement already satisfied: ipython>=6.1.0 in /usr/local/lib/python3.10/dist-packages (from ipywidgets==8.1.3->-r requirements.txt (line 16)) (7.34.0)\n",
            "Requirement already satisfied: traitlets>=4.3.1 in /usr/local/lib/python3.10/dist-packages (from ipywidgets==8.1.3->-r requirements.txt (line 16)) (5.7.1)\n",
            "Collecting widgetsnbextension~=4.0.11 (from ipywidgets==8.1.3->-r requirements.txt (line 16))\n",
            "  Downloading widgetsnbextension-4.0.13-py3-none-any.whl.metadata (1.6 kB)\n",
            "Requirement already satisfied: jupyterlab-widgets~=3.0.11 in /usr/local/lib/python3.10/dist-packages (from ipywidgets==8.1.3->-r requirements.txt (line 16)) (3.0.13)\n",
            "Requirement already satisfied: debugpy>=1.6.5 in /usr/local/lib/python3.10/dist-packages (from ipykernel==6.29.5->-r requirements.txt (line 18)) (1.6.6)\n",
            "Requirement already satisfied: jupyter-client>=6.1.12 in /usr/local/lib/python3.10/dist-packages (from ipykernel==6.29.5->-r requirements.txt (line 18)) (6.1.12)\n",
            "Requirement already satisfied: jupyter-core!=5.0.*,>=4.12 in /usr/local/lib/python3.10/dist-packages (from ipykernel==6.29.5->-r requirements.txt (line 18)) (5.7.2)\n",
            "Requirement already satisfied: matplotlib-inline>=0.1 in /usr/local/lib/python3.10/dist-packages (from ipykernel==6.29.5->-r requirements.txt (line 18)) (0.1.7)\n",
            "Requirement already satisfied: nest-asyncio in /usr/local/lib/python3.10/dist-packages (from ipykernel==6.29.5->-r requirements.txt (line 18)) (1.6.0)\n",
            "Requirement already satisfied: psutil in /usr/local/lib/python3.10/dist-packages (from ipykernel==6.29.5->-r requirements.txt (line 18)) (5.9.5)\n",
            "Requirement already satisfied: pyzmq>=24 in /usr/local/lib/python3.10/dist-packages (from ipykernel==6.29.5->-r requirements.txt (line 18)) (24.0.1)\n",
            "Requirement already satisfied: google-generativeai<0.8.0,>=0.7.0 in /usr/local/lib/python3.10/dist-packages (from langchain-google-genai==1.0.7->-r requirements.txt (line 20)) (0.7.2)\n",
            "Requirement already satisfied: aiohappyeyeballs>=2.3.0 in /usr/local/lib/python3.10/dist-packages (from aiohttp<4.0.0,>=3.8.3->langchain==0.2.7->-r requirements.txt (line 6)) (2.4.0)\n",
            "Requirement already satisfied: aiosignal>=1.1.2 in /usr/local/lib/python3.10/dist-packages (from aiohttp<4.0.0,>=3.8.3->langchain==0.2.7->-r requirements.txt (line 6)) (1.3.1)\n",
            "Requirement already satisfied: attrs>=17.3.0 in /usr/local/lib/python3.10/dist-packages (from aiohttp<4.0.0,>=3.8.3->langchain==0.2.7->-r requirements.txt (line 6)) (24.2.0)\n",
            "Requirement already satisfied: frozenlist>=1.1.1 in /usr/local/lib/python3.10/dist-packages (from aiohttp<4.0.0,>=3.8.3->langchain==0.2.7->-r requirements.txt (line 6)) (1.4.1)\n",
            "Requirement already satisfied: multidict<7.0,>=4.5 in /usr/local/lib/python3.10/dist-packages (from aiohttp<4.0.0,>=3.8.3->langchain==0.2.7->-r requirements.txt (line 6)) (6.1.0)\n",
            "Requirement already satisfied: yarl<2.0,>=1.0 in /usr/local/lib/python3.10/dist-packages (from aiohttp<4.0.0,>=3.8.3->langchain==0.2.7->-r requirements.txt (line 6)) (1.11.1)\n",
            "Requirement already satisfied: entrypoints in /usr/local/lib/python3.10/dist-packages (from altair<6,>=4.0->streamlit==1.36.0->-r requirements.txt (line 10)) (0.4)\n",
            "Requirement already satisfied: jinja2 in /usr/local/lib/python3.10/dist-packages (from altair<6,>=4.0->streamlit==1.36.0->-r requirements.txt (line 10)) (3.1.4)\n",
            "Requirement already satisfied: jsonschema>=3.0 in /usr/local/lib/python3.10/dist-packages (from altair<6,>=4.0->streamlit==1.36.0->-r requirements.txt (line 10)) (4.23.0)\n",
            "Requirement already satisfied: toolz in /usr/local/lib/python3.10/dist-packages (from altair<6,>=4.0->streamlit==1.36.0->-r requirements.txt (line 10)) (0.12.1)\n",
            "Requirement already satisfied: idna>=2.8 in /usr/local/lib/python3.10/dist-packages (from anyio<5,>=3.5.0->openai==1.35.13->-r requirements.txt (line 8)) (3.10)\n",
            "Requirement already satisfied: exceptiongroup in /usr/local/lib/python3.10/dist-packages (from anyio<5,>=3.5.0->openai==1.35.13->-r requirements.txt (line 8)) (1.2.2)\n",
            "Collecting gitdb<5,>=4.0.1 (from gitpython!=3.1.19,<4,>=3.0.7->streamlit==1.36.0->-r requirements.txt (line 10))\n",
            "  Downloading gitdb-4.0.11-py3-none-any.whl.metadata (1.2 kB)\n",
            "Requirement already satisfied: google-ai-generativelanguage==0.6.6 in /usr/local/lib/python3.10/dist-packages (from google-generativeai<0.8.0,>=0.7.0->langchain-google-genai==1.0.7->-r requirements.txt (line 20)) (0.6.6)\n",
            "Requirement already satisfied: google-api-core in /usr/local/lib/python3.10/dist-packages (from google-generativeai<0.8.0,>=0.7.0->langchain-google-genai==1.0.7->-r requirements.txt (line 20)) (2.19.2)\n",
            "Requirement already satisfied: google-api-python-client in /usr/local/lib/python3.10/dist-packages (from google-generativeai<0.8.0,>=0.7.0->langchain-google-genai==1.0.7->-r requirements.txt (line 20)) (2.137.0)\n",
            "Requirement already satisfied: google-auth>=2.15.0 in /usr/local/lib/python3.10/dist-packages (from google-generativeai<0.8.0,>=0.7.0->langchain-google-genai==1.0.7->-r requirements.txt (line 20)) (2.27.0)\n",
            "Requirement already satisfied: proto-plus<2.0.0dev,>=1.22.3 in /usr/local/lib/python3.10/dist-packages (from google-ai-generativelanguage==0.6.6->google-generativeai<0.8.0,>=0.7.0->langchain-google-genai==1.0.7->-r requirements.txt (line 20)) (1.24.0)\n",
            "Collecting httpcore==1.* (from httpx<1,>=0.23.0->openai==1.35.13->-r requirements.txt (line 8))\n",
            "  Downloading httpcore-1.0.5-py3-none-any.whl.metadata (20 kB)\n",
            "Collecting h11<0.15,>=0.13 (from httpcore==1.*->httpx<1,>=0.23.0->openai==1.35.13->-r requirements.txt (line 8))\n",
            "  Downloading h11-0.14.0-py3-none-any.whl.metadata (8.2 kB)\n",
            "Requirement already satisfied: setuptools>=18.5 in /usr/local/lib/python3.10/dist-packages (from ipython>=6.1.0->ipywidgets==8.1.3->-r requirements.txt (line 16)) (71.0.4)\n",
            "Collecting jedi>=0.16 (from ipython>=6.1.0->ipywidgets==8.1.3->-r requirements.txt (line 16))\n",
            "  Using cached jedi-0.19.1-py2.py3-none-any.whl.metadata (22 kB)\n",
            "Requirement already satisfied: decorator in /usr/local/lib/python3.10/dist-packages (from ipython>=6.1.0->ipywidgets==8.1.3->-r requirements.txt (line 16)) (4.4.2)\n",
            "Requirement already satisfied: pickleshare in /usr/local/lib/python3.10/dist-packages (from ipython>=6.1.0->ipywidgets==8.1.3->-r requirements.txt (line 16)) (0.7.5)\n",
            "Requirement already satisfied: prompt-toolkit!=3.0.0,!=3.0.1,<3.1.0,>=2.0.0 in /usr/local/lib/python3.10/dist-packages (from ipython>=6.1.0->ipywidgets==8.1.3->-r requirements.txt (line 16)) (3.0.47)\n",
            "Requirement already satisfied: pygments in /usr/local/lib/python3.10/dist-packages (from ipython>=6.1.0->ipywidgets==8.1.3->-r requirements.txt (line 16)) (2.18.0)\n",
            "Requirement already satisfied: backcall in /usr/local/lib/python3.10/dist-packages (from ipython>=6.1.0->ipywidgets==8.1.3->-r requirements.txt (line 16)) (0.2.0)\n",
            "Requirement already satisfied: pexpect>4.3 in /usr/local/lib/python3.10/dist-packages (from ipython>=6.1.0->ipywidgets==8.1.3->-r requirements.txt (line 16)) (4.9.0)\n",
            "Requirement already satisfied: platformdirs>=2.5 in /usr/local/lib/python3.10/dist-packages (from jupyter-core!=5.0.*,>=4.12->ipykernel==6.29.5->-r requirements.txt (line 18)) (4.3.6)\n",
            "Collecting dataclasses-json<0.7,>=0.5.7 (from langchain-community<0.3.0,>=0.2.6->langchain_experimental==0.0.62->-r requirements.txt (line 2))\n",
            "  Downloading dataclasses_json-0.6.7-py3-none-any.whl.metadata (25 kB)\n",
            "INFO: pip is looking at multiple versions of langchain-community to determine which version is compatible with other requirements. This could take a while.\n",
            "Collecting langchain-community<0.3.0,>=0.2.6 (from langchain_experimental==0.0.62->-r requirements.txt (line 2))\n",
            "  Downloading langchain_community-0.2.16-py3-none-any.whl.metadata (2.7 kB)\n",
            "  Downloading langchain_community-0.2.15-py3-none-any.whl.metadata (2.7 kB)\n",
            "  Downloading langchain_community-0.2.13-py3-none-any.whl.metadata (2.7 kB)\n",
            "  Downloading langchain_community-0.2.12-py3-none-any.whl.metadata (2.7 kB)\n",
            "  Downloading langchain_community-0.2.11-py3-none-any.whl.metadata (2.7 kB)\n",
            "  Downloading langchain_community-0.2.10-py3-none-any.whl.metadata (2.7 kB)\n",
            "  Downloading langchain_community-0.2.9-py3-none-any.whl.metadata (2.5 kB)\n",
            "INFO: pip is still looking at multiple versions of langchain-community to determine which version is compatible with other requirements. This could take a while.\n",
            "  Downloading langchain_community-0.2.7-py3-none-any.whl.metadata (2.5 kB)\n",
            "Collecting jsonpatch<2.0,>=1.33 (from langchain-core<0.3.0,>=0.2.17->langchain_openai==0.1.16->-r requirements.txt (line 1))\n",
            "  Downloading jsonpatch-1.33-py2.py3-none-any.whl.metadata (3.0 kB)\n",
            "Collecting orjson<4.0.0,>=3.9.14 (from langsmith<0.2.0,>=0.1.17->langchain==0.2.7->-r requirements.txt (line 6))\n",
            "  Downloading orjson-3.10.7-cp310-cp310-manylinux_2_17_x86_64.manylinux2014_x86_64.whl.metadata (50 kB)\n",
            "\u001b[2K     \u001b[90m━━━━━━━━━━━━━━━━━━━━━━━━━━━━━━━━━━━━━━━━\u001b[0m \u001b[32m50.4/50.4 kB\u001b[0m \u001b[31m3.5 MB/s\u001b[0m eta \u001b[36m0:00:00\u001b[0m\n",
            "\u001b[?25hRequirement already satisfied: pytz>=2020.1 in /usr/local/lib/python3.10/dist-packages (from pandas<3,>=1.3.0->streamlit==1.36.0->-r requirements.txt (line 10)) (2024.2)\n",
            "Requirement already satisfied: tzdata>=2022.1 in /usr/local/lib/python3.10/dist-packages (from pandas<3,>=1.3.0->streamlit==1.36.0->-r requirements.txt (line 10)) (2024.1)\n",
            "Requirement already satisfied: annotated-types>=0.6.0 in /usr/local/lib/python3.10/dist-packages (from pydantic<3,>=1->langchain==0.2.7->-r requirements.txt (line 6)) (0.7.0)\n",
            "Requirement already satisfied: pydantic-core==2.23.4 in /usr/local/lib/python3.10/dist-packages (from pydantic<3,>=1->langchain==0.2.7->-r requirements.txt (line 6)) (2.23.4)\n",
            "Requirement already satisfied: six>=1.5 in /usr/local/lib/python3.10/dist-packages (from python-dateutil>=2.7->matplotlib==3.9.1->-r requirements.txt (line 15)) (1.16.0)\n",
            "Requirement already satisfied: charset-normalizer<4,>=2 in /usr/local/lib/python3.10/dist-packages (from requests<3,>=2->langchainhub==0.1.20->-r requirements.txt (line 3)) (3.3.2)\n",
            "Requirement already satisfied: markdown-it-py>=2.2.0 in /usr/local/lib/python3.10/dist-packages (from rich<14,>=10.14.0->streamlit==1.36.0->-r requirements.txt (line 10)) (3.0.0)\n",
            "Requirement already satisfied: greenlet!=0.4.17 in /usr/local/lib/python3.10/dist-packages (from SQLAlchemy<3,>=1.4->langchain==0.2.7->-r requirements.txt (line 6)) (3.1.1)\n",
            "Requirement already satisfied: regex>=2022.1.18 in /usr/local/lib/python3.10/dist-packages (from tiktoken<1,>=0.7->langchain_openai==0.1.16->-r requirements.txt (line 1)) (2024.9.11)\n",
            "Requirement already satisfied: soupsieve>1.2 in /usr/local/lib/python3.10/dist-packages (from beautifulsoup4->wikipedia==1.4.0->-r requirements.txt (line 7)) (2.6)\n",
            "Collecting marshmallow<4.0.0,>=3.18.0 (from dataclasses-json<0.7,>=0.5.7->langchain-community<0.3.0,>=0.2.6->langchain_experimental==0.0.62->-r requirements.txt (line 2))\n",
            "  Downloading marshmallow-3.22.0-py3-none-any.whl.metadata (7.2 kB)\n",
            "Collecting typing-inspect<1,>=0.4.0 (from dataclasses-json<0.7,>=0.5.7->langchain-community<0.3.0,>=0.2.6->langchain_experimental==0.0.62->-r requirements.txt (line 2))\n",
            "  Downloading typing_inspect-0.9.0-py3-none-any.whl.metadata (1.5 kB)\n",
            "Collecting smmap<6,>=3.0.1 (from gitdb<5,>=4.0.1->gitpython!=3.1.19,<4,>=3.0.7->streamlit==1.36.0->-r requirements.txt (line 10))\n",
            "  Downloading smmap-5.0.1-py3-none-any.whl.metadata (4.3 kB)\n",
            "Requirement already satisfied: googleapis-common-protos<2.0.dev0,>=1.56.2 in /usr/local/lib/python3.10/dist-packages (from google-api-core->google-generativeai<0.8.0,>=0.7.0->langchain-google-genai==1.0.7->-r requirements.txt (line 20)) (1.65.0)\n",
            "Requirement already satisfied: pyasn1-modules>=0.2.1 in /usr/local/lib/python3.10/dist-packages (from google-auth>=2.15.0->google-generativeai<0.8.0,>=0.7.0->langchain-google-genai==1.0.7->-r requirements.txt (line 20)) (0.4.1)\n",
            "Requirement already satisfied: rsa<5,>=3.1.4 in /usr/local/lib/python3.10/dist-packages (from google-auth>=2.15.0->google-generativeai<0.8.0,>=0.7.0->langchain-google-genai==1.0.7->-r requirements.txt (line 20)) (4.9)\n",
            "Requirement already satisfied: parso<0.9.0,>=0.8.3 in /usr/local/lib/python3.10/dist-packages (from jedi>=0.16->ipython>=6.1.0->ipywidgets==8.1.3->-r requirements.txt (line 16)) (0.8.4)\n",
            "Requirement already satisfied: MarkupSafe>=2.0 in /usr/local/lib/python3.10/dist-packages (from jinja2->altair<6,>=4.0->streamlit==1.36.0->-r requirements.txt (line 10)) (2.1.5)\n",
            "Collecting jsonpointer>=1.9 (from jsonpatch<2.0,>=1.33->langchain-core<0.3.0,>=0.2.17->langchain_openai==0.1.16->-r requirements.txt (line 1))\n",
            "  Downloading jsonpointer-3.0.0-py2.py3-none-any.whl.metadata (2.3 kB)\n",
            "Requirement already satisfied: jsonschema-specifications>=2023.03.6 in /usr/local/lib/python3.10/dist-packages (from jsonschema>=3.0->altair<6,>=4.0->streamlit==1.36.0->-r requirements.txt (line 10)) (2023.12.1)\n",
            "Requirement already satisfied: referencing>=0.28.4 in /usr/local/lib/python3.10/dist-packages (from jsonschema>=3.0->altair<6,>=4.0->streamlit==1.36.0->-r requirements.txt (line 10)) (0.35.1)\n",
            "Requirement already satisfied: rpds-py>=0.7.1 in /usr/local/lib/python3.10/dist-packages (from jsonschema>=3.0->altair<6,>=4.0->streamlit==1.36.0->-r requirements.txt (line 10)) (0.20.0)\n",
            "Requirement already satisfied: mdurl~=0.1 in /usr/local/lib/python3.10/dist-packages (from markdown-it-py>=2.2.0->rich<14,>=10.14.0->streamlit==1.36.0->-r requirements.txt (line 10)) (0.1.2)\n",
            "Requirement already satisfied: ptyprocess>=0.5 in /usr/local/lib/python3.10/dist-packages (from pexpect>4.3->ipython>=6.1.0->ipywidgets==8.1.3->-r requirements.txt (line 16)) (0.7.0)\n",
            "Requirement already satisfied: wcwidth in /usr/local/lib/python3.10/dist-packages (from prompt-toolkit!=3.0.0,!=3.0.1,<3.1.0,>=2.0.0->ipython>=6.1.0->ipywidgets==8.1.3->-r requirements.txt (line 16)) (0.2.13)\n",
            "Requirement already satisfied: httplib2<1.dev0,>=0.19.0 in /usr/local/lib/python3.10/dist-packages (from google-api-python-client->google-generativeai<0.8.0,>=0.7.0->langchain-google-genai==1.0.7->-r requirements.txt (line 20)) (0.22.0)\n",
            "Requirement already satisfied: google-auth-httplib2<1.0.0,>=0.2.0 in /usr/local/lib/python3.10/dist-packages (from google-api-python-client->google-generativeai<0.8.0,>=0.7.0->langchain-google-genai==1.0.7->-r requirements.txt (line 20)) (0.2.0)\n",
            "Requirement already satisfied: uritemplate<5,>=3.0.1 in /usr/local/lib/python3.10/dist-packages (from google-api-python-client->google-generativeai<0.8.0,>=0.7.0->langchain-google-genai==1.0.7->-r requirements.txt (line 20)) (4.1.1)\n",
            "Requirement already satisfied: grpcio<2.0dev,>=1.33.2 in /usr/local/lib/python3.10/dist-packages (from google-api-core[grpc]!=2.0.*,!=2.1.*,!=2.10.*,!=2.2.*,!=2.3.*,!=2.4.*,!=2.5.*,!=2.6.*,!=2.7.*,!=2.8.*,!=2.9.*,<3.0.0dev,>=1.34.1->google-ai-generativelanguage==0.6.6->google-generativeai<0.8.0,>=0.7.0->langchain-google-genai==1.0.7->-r requirements.txt (line 20)) (1.64.1)\n",
            "Requirement already satisfied: grpcio-status<2.0.dev0,>=1.33.2 in /usr/local/lib/python3.10/dist-packages (from google-api-core[grpc]!=2.0.*,!=2.1.*,!=2.10.*,!=2.2.*,!=2.3.*,!=2.4.*,!=2.5.*,!=2.6.*,!=2.7.*,!=2.8.*,!=2.9.*,<3.0.0dev,>=1.34.1->google-ai-generativelanguage==0.6.6->google-generativeai<0.8.0,>=0.7.0->langchain-google-genai==1.0.7->-r requirements.txt (line 20)) (1.48.2)\n",
            "Requirement already satisfied: pyasn1<0.7.0,>=0.4.6 in /usr/local/lib/python3.10/dist-packages (from pyasn1-modules>=0.2.1->google-auth>=2.15.0->google-generativeai<0.8.0,>=0.7.0->langchain-google-genai==1.0.7->-r requirements.txt (line 20)) (0.6.1)\n",
            "Collecting mypy-extensions>=0.3.0 (from typing-inspect<1,>=0.4.0->dataclasses-json<0.7,>=0.5.7->langchain-community<0.3.0,>=0.2.6->langchain_experimental==0.0.62->-r requirements.txt (line 2))\n",
            "  Downloading mypy_extensions-1.0.0-py3-none-any.whl.metadata (1.1 kB)\n",
            "\u001b[33mWARNING: The candidate selected for download or install is a yanked version: 'matplotlib' candidate (version 3.9.1 at https://files.pythonhosted.org/packages/32/ad/58902b481f5a294101a53ed964d68a2c2355d55622a8e9cb09fc3f517385/matplotlib-3.9.1-cp310-cp310-manylinux_2_17_x86_64.manylinux2014_x86_64.whl (from https://pypi.org/simple/matplotlib/) (requires-python:>=3.9))\n",
            "Reason for being yanked: The Windows wheels, under some conditions, caused segfaults in unrelated user code.  Due to this we deleted the Windows wheels to prevent these segfaults, however this caused greater disruption as pip then began to try (and fail) to build 3.9.1 from the sdist on Windows which impacted far more users.  Yanking the whole release is the only tool available to eliminate these failures without changes to on the user side.  The sdist, OSX wheel, and manylinux wheels are all functional and there are no critical bugs in the release.   Downstream packagers should not yank their builds of Matplotlib 3.9.1.  See https://github.com/matplotlib/matplotlib/issues/28551 for details.\u001b[0m\u001b[33m\n",
            "\u001b[0mDownloading langchain_openai-0.1.16-py3-none-any.whl (46 kB)\n",
            "\u001b[2K   \u001b[90m━━━━━━━━━━━━━━━━━━━━━━━━━━━━━━━━━━━━━━━━\u001b[0m \u001b[32m46.1/46.1 kB\u001b[0m \u001b[31m3.3 MB/s\u001b[0m eta \u001b[36m0:00:00\u001b[0m\n",
            "\u001b[?25hDownloading langchain_experimental-0.0.62-py3-none-any.whl (202 kB)\n",
            "\u001b[2K   \u001b[90m━━━━━━━━━━━━━━━━━━━━━━━━━━━━━━━━━━━━━━━━\u001b[0m \u001b[32m202.7/202.7 kB\u001b[0m \u001b[31m10.5 MB/s\u001b[0m eta \u001b[36m0:00:00\u001b[0m\n",
            "\u001b[?25hDownloading langchainhub-0.1.20-py3-none-any.whl (5.0 kB)\n",
            "Downloading pinecone_client-4.1.2-py3-none-any.whl (216 kB)\n",
            "\u001b[2K   \u001b[90m━━━━━━━━━━━━━━━━━━━━━━━━━━━━━━━━━━━━━━━━\u001b[0m \u001b[32m216.4/216.4 kB\u001b[0m \u001b[31m13.2 MB/s\u001b[0m eta \u001b[36m0:00:00\u001b[0m\n",
            "\u001b[?25hDownloading PyMuPDF-1.24.7-cp310-none-manylinux2014_x86_64.whl (3.5 MB)\n",
            "\u001b[2K   \u001b[90m━━━━━━━━━━━━━━━━━━━━━━━━━━━━━━━━━━━━━━━━\u001b[0m \u001b[32m3.5/3.5 MB\u001b[0m \u001b[31m38.6 MB/s\u001b[0m eta \u001b[36m0:00:00\u001b[0m\n",
            "\u001b[?25hDownloading langchain-0.2.7-py3-none-any.whl (983 kB)\n",
            "\u001b[2K   \u001b[90m━━━━━━━━━━━━━━━━━━━━━━━━━━━━━━━━━━━━━━━━\u001b[0m \u001b[32m983.6/983.6 kB\u001b[0m \u001b[31m41.2 MB/s\u001b[0m eta \u001b[36m0:00:00\u001b[0m\n",
            "\u001b[?25hDownloading openai-1.35.13-py3-none-any.whl (328 kB)\n",
            "\u001b[2K   \u001b[90m━━━━━━━━━━━━━━━━━━━━━━━━━━━━━━━━━━━━━━━━\u001b[0m \u001b[32m328.5/328.5 kB\u001b[0m \u001b[31m19.4 MB/s\u001b[0m eta \u001b[36m0:00:00\u001b[0m\n",
            "\u001b[?25hDownloading streamlit-1.36.0-py2.py3-none-any.whl (8.6 MB)\n",
            "\u001b[2K   \u001b[90m━━━━━━━━━━━━━━━━━━━━━━━━━━━━━━━━━━━━━━━━\u001b[0m \u001b[32m8.6/8.6 MB\u001b[0m \u001b[31m58.5 MB/s\u001b[0m eta \u001b[36m0:00:00\u001b[0m\n",
            "\u001b[?25hDownloading duckduckgo_search-6.1.12-py3-none-any.whl (26 kB)\n",
            "Downloading scikit_learn-1.5.1-cp310-cp310-manylinux_2_17_x86_64.manylinux2014_x86_64.whl (13.4 MB)\n",
            "\u001b[2K   \u001b[90m━━━━━━━━━━━━━━━━━━━━━━━━━━━━━━━━━━━━━━━━\u001b[0m \u001b[32m13.4/13.4 MB\u001b[0m \u001b[31m56.8 MB/s\u001b[0m eta \u001b[36m0:00:00\u001b[0m\n",
            "\u001b[?25hDownloading matplotlib-3.9.1-cp310-cp310-manylinux_2_17_x86_64.manylinux2014_x86_64.whl (8.3 MB)\n",
            "\u001b[2K   \u001b[90m━━━━━━━━━━━━━━━━━━━━━━━━━━━━━━━━━━━━━━━━\u001b[0m \u001b[32m8.3/8.3 MB\u001b[0m \u001b[31m92.8 MB/s\u001b[0m eta \u001b[36m0:00:00\u001b[0m\n",
            "\u001b[?25hDownloading ipywidgets-8.1.3-py3-none-any.whl (139 kB)\n",
            "\u001b[2K   \u001b[90m━━━━━━━━━━━━━━━━━━━━━━━━━━━━━━━━━━━━━━━━\u001b[0m \u001b[32m139.4/139.4 kB\u001b[0m \u001b[31m10.2 MB/s\u001b[0m eta \u001b[36m0:00:00\u001b[0m\n",
            "\u001b[?25hDownloading tqdm-4.66.4-py3-none-any.whl (78 kB)\n",
            "\u001b[2K   \u001b[90m━━━━━━━━━━━━━━━━━━━━━━━━━━━━━━━━━━━━━━━━\u001b[0m \u001b[32m78.3/78.3 kB\u001b[0m \u001b[31m5.9 MB/s\u001b[0m eta \u001b[36m0:00:00\u001b[0m\n",
            "\u001b[?25hDownloading ipykernel-6.29.5-py3-none-any.whl (117 kB)\n",
            "\u001b[2K   \u001b[90m━━━━━━━━━━━━━━━━━━━━━━━━━━━━━━━━━━━━━━━━\u001b[0m \u001b[32m117.2/117.2 kB\u001b[0m \u001b[31m9.6 MB/s\u001b[0m eta \u001b[36m0:00:00\u001b[0m\n",
            "\u001b[?25hDownloading PyYAML-6.0.1-cp310-cp310-manylinux_2_17_x86_64.manylinux2014_x86_64.whl (705 kB)\n",
            "\u001b[2K   \u001b[90m━━━━━━━━━━━━━━━━━━━━━━━━━━━━━━━━━━━━━━━━\u001b[0m \u001b[32m705.5/705.5 kB\u001b[0m \u001b[31m38.8 MB/s\u001b[0m eta \u001b[36m0:00:00\u001b[0m\n",
            "\u001b[?25hDownloading langchain_google_genai-1.0.7-py3-none-any.whl (36 kB)\n",
            "Downloading PyMuPDFb-1.24.6-py3-none-manylinux2014_x86_64.manylinux_2_17_x86_64.whl (15.7 MB)\n",
            "\u001b[2K   \u001b[90m━━━━━━━━━━━━━━━━━━━━━━━━━━━━━━━━━━━━━━━━\u001b[0m \u001b[32m15.7/15.7 MB\u001b[0m \u001b[31m73.7 MB/s\u001b[0m eta \u001b[36m0:00:00\u001b[0m\n",
            "\u001b[?25hDownloading comm-0.2.2-py3-none-any.whl (7.2 kB)\n",
            "Downloading GitPython-3.1.43-py3-none-any.whl (207 kB)\n",
            "\u001b[2K   \u001b[90m━━━━━━━━━━━━━━━━━━━━━━━━━━━━━━━━━━━━━━━━\u001b[0m \u001b[32m207.3/207.3 kB\u001b[0m \u001b[31m14.9 MB/s\u001b[0m eta \u001b[36m0:00:00\u001b[0m\n",
            "\u001b[?25hDownloading httpx-0.27.2-py3-none-any.whl (76 kB)\n",
            "\u001b[2K   \u001b[90m━━━━━━━━━━━━━━━━━━━━━━━━━━━━━━━━━━━━━━━━\u001b[0m \u001b[32m76.4/76.4 kB\u001b[0m \u001b[31m5.1 MB/s\u001b[0m eta \u001b[36m0:00:00\u001b[0m\n",
            "\u001b[?25hDownloading httpcore-1.0.5-py3-none-any.whl (77 kB)\n",
            "\u001b[2K   \u001b[90m━━━━━━━━━━━━━━━━━━━━━━━━━━━━━━━━━━━━━━━━\u001b[0m \u001b[32m77.9/77.9 kB\u001b[0m \u001b[31m6.1 MB/s\u001b[0m eta \u001b[36m0:00:00\u001b[0m\n",
            "\u001b[?25hDownloading langchain_community-0.2.7-py3-none-any.whl (2.2 MB)\n",
            "\u001b[2K   \u001b[90m━━━━━━━━━━━━━━━━━━━━━━━━━━━━━━━━━━━━━━━━\u001b[0m \u001b[32m2.2/2.2 MB\u001b[0m \u001b[31m63.2 MB/s\u001b[0m eta \u001b[36m0:00:00\u001b[0m\n",
            "\u001b[?25hDownloading langchain_core-0.2.41-py3-none-any.whl (397 kB)\n",
            "\u001b[2K   \u001b[90m━━━━━━━━━━━━━━━━━━━━━━━━━━━━━━━━━━━━━━━━\u001b[0m \u001b[32m397.0/397.0 kB\u001b[0m \u001b[31m25.6 MB/s\u001b[0m eta \u001b[36m0:00:00\u001b[0m\n",
            "\u001b[?25hDownloading langchain_text_splitters-0.2.4-py3-none-any.whl (25 kB)\n",
            "Downloading langsmith-0.1.129-py3-none-any.whl (292 kB)\n",
            "\u001b[2K   \u001b[90m━━━━━━━━━━━━━━━━━━━━━━━━━━━━━━━━━━━━━━━━\u001b[0m \u001b[32m292.2/292.2 kB\u001b[0m \u001b[31m20.2 MB/s\u001b[0m eta \u001b[36m0:00:00\u001b[0m\n",
            "\u001b[?25hDownloading pinecone_plugin_interface-0.0.7-py3-none-any.whl (6.2 kB)\n",
            "Downloading pydeck-0.9.1-py2.py3-none-any.whl (6.9 MB)\n",
            "\u001b[2K   \u001b[90m━━━━━━━━━━━━━━━━━━━━━━━━━━━━━━━━━━━━━━━━\u001b[0m \u001b[32m6.9/6.9 MB\u001b[0m \u001b[31m72.5 MB/s\u001b[0m eta \u001b[36m0:00:00\u001b[0m\n",
            "\u001b[?25hDownloading pyreqwest_impersonate-0.5.3-cp38-abi3-manylinux_2_17_x86_64.manylinux2014_x86_64.whl (3.0 MB)\n",
            "\u001b[2K   \u001b[90m━━━━━━━━━━━━━━━━━━━━━━━━━━━━━━━━━━━━━━━━\u001b[0m \u001b[32m3.0/3.0 MB\u001b[0m \u001b[31m51.2 MB/s\u001b[0m eta \u001b[36m0:00:00\u001b[0m\n",
            "\u001b[?25hDownloading tenacity-8.5.0-py3-none-any.whl (28 kB)\n",
            "Downloading tiktoken-0.7.0-cp310-cp310-manylinux_2_17_x86_64.manylinux2014_x86_64.whl (1.1 MB)\n",
            "\u001b[2K   \u001b[90m━━━━━━━━━━━━━━━━━━━━━━━━━━━━━━━━━━━━━━━━\u001b[0m \u001b[32m1.1/1.1 MB\u001b[0m \u001b[31m28.7 MB/s\u001b[0m eta \u001b[36m0:00:00\u001b[0m\n",
            "\u001b[?25hDownloading types_requests-2.32.0.20240914-py3-none-any.whl (15 kB)\n",
            "Downloading watchdog-4.0.2-py3-none-manylinux2014_x86_64.whl (82 kB)\n",
            "\u001b[2K   \u001b[90m━━━━━━━━━━━━━━━━━━━━━━━━━━━━━━━━━━━━━━━━\u001b[0m \u001b[32m82.9/82.9 kB\u001b[0m \u001b[31m5.4 MB/s\u001b[0m eta \u001b[36m0:00:00\u001b[0m\n",
            "\u001b[?25hDownloading widgetsnbextension-4.0.13-py3-none-any.whl (2.3 MB)\n",
            "\u001b[2K   \u001b[90m━━━━━━━━━━━━━━━━━━━━━━━━━━━━━━━━━━━━━━━━\u001b[0m \u001b[32m2.3/2.3 MB\u001b[0m \u001b[31m65.4 MB/s\u001b[0m eta \u001b[36m0:00:00\u001b[0m\n",
            "\u001b[?25hDownloading dataclasses_json-0.6.7-py3-none-any.whl (28 kB)\n",
            "Downloading gitdb-4.0.11-py3-none-any.whl (62 kB)\n",
            "\u001b[2K   \u001b[90m━━━━━━━━━━━━━━━━━━━━━━━━━━━━━━━━━━━━━━━━\u001b[0m \u001b[32m62.7/62.7 kB\u001b[0m \u001b[31m4.3 MB/s\u001b[0m eta \u001b[36m0:00:00\u001b[0m\n",
            "\u001b[?25hUsing cached jedi-0.19.1-py2.py3-none-any.whl (1.6 MB)\n",
            "Downloading jsonpatch-1.33-py2.py3-none-any.whl (12 kB)\n",
            "Downloading orjson-3.10.7-cp310-cp310-manylinux_2_17_x86_64.manylinux2014_x86_64.whl (141 kB)\n",
            "\u001b[2K   \u001b[90m━━━━━━━━━━━━━━━━━━━━━━━━━━━━━━━━━━━━━━━━\u001b[0m \u001b[32m141.9/141.9 kB\u001b[0m \u001b[31m9.8 MB/s\u001b[0m eta \u001b[36m0:00:00\u001b[0m\n",
            "\u001b[?25hDownloading h11-0.14.0-py3-none-any.whl (58 kB)\n",
            "\u001b[2K   \u001b[90m━━━━━━━━━━━━━━━━━━━━━━━━━━━━━━━━━━━━━━━━\u001b[0m \u001b[32m58.3/58.3 kB\u001b[0m \u001b[31m4.0 MB/s\u001b[0m eta \u001b[36m0:00:00\u001b[0m\n",
            "\u001b[?25hDownloading jsonpointer-3.0.0-py2.py3-none-any.whl (7.6 kB)\n",
            "Downloading marshmallow-3.22.0-py3-none-any.whl (49 kB)\n",
            "\u001b[2K   \u001b[90m━━━━━━━━━━━━━━━━━━━━━━━━━━━━━━━━━━━━━━━━\u001b[0m \u001b[32m49.3/49.3 kB\u001b[0m \u001b[31m2.6 MB/s\u001b[0m eta \u001b[36m0:00:00\u001b[0m\n",
            "\u001b[?25hDownloading smmap-5.0.1-py3-none-any.whl (24 kB)\n",
            "Downloading typing_inspect-0.9.0-py3-none-any.whl (8.8 kB)\n",
            "Downloading mypy_extensions-1.0.0-py3-none-any.whl (4.7 kB)\n",
            "Building wheels for collected packages: wikipedia\n",
            "  Building wheel for wikipedia (setup.py) ... \u001b[?25l\u001b[?25hdone\n",
            "  Created wheel for wikipedia: filename=wikipedia-1.4.0-py3-none-any.whl size=11679 sha256=57981df9d6fad6de359a2fe7cc6a02d46c0d90b550147401723ec9fab4a12038\n",
            "  Stored in directory: /root/.cache/pip/wheels/5e/b6/c5/93f3dec388ae76edc830cb42901bb0232504dfc0df02fc50de\n",
            "Successfully built wikipedia\n",
            "Installing collected packages: widgetsnbextension, watchdog, types-requests, tqdm, tenacity, smmap, PyYAML, pyreqwest-impersonate, PyMuPDFb, pinecone-plugin-interface, orjson, mypy-extensions, marshmallow, jsonpointer, jedi, h11, comm, wikipedia, typing-inspect, tiktoken, scikit-learn, PyMuPDF, pydeck, pinecone-client, matplotlib, langchainhub, jsonpatch, httpcore, gitdb, duckduckgo_search, ipywidgets, ipykernel, httpx, gitpython, dataclasses-json, openai, langsmith, streamlit, langchain-core, langchain-text-splitters, langchain_openai, langchain-google-genai, langchain, langchain-community, langchain_experimental\n",
            "  Attempting uninstall: widgetsnbextension\n",
            "    Found existing installation: widgetsnbextension 3.6.9\n",
            "    Uninstalling widgetsnbextension-3.6.9:\n",
            "      Successfully uninstalled widgetsnbextension-3.6.9\n",
            "  Attempting uninstall: tqdm\n",
            "    Found existing installation: tqdm 4.66.5\n",
            "    Uninstalling tqdm-4.66.5:\n",
            "      Successfully uninstalled tqdm-4.66.5\n",
            "  Attempting uninstall: tenacity\n",
            "    Found existing installation: tenacity 9.0.0\n",
            "    Uninstalling tenacity-9.0.0:\n",
            "      Successfully uninstalled tenacity-9.0.0\n",
            "  Attempting uninstall: PyYAML\n",
            "    Found existing installation: PyYAML 6.0.2\n",
            "    Uninstalling PyYAML-6.0.2:\n",
            "      Successfully uninstalled PyYAML-6.0.2\n",
            "  Attempting uninstall: scikit-learn\n",
            "    Found existing installation: scikit-learn 1.5.2\n",
            "    Uninstalling scikit-learn-1.5.2:\n",
            "      Successfully uninstalled scikit-learn-1.5.2\n",
            "  Attempting uninstall: matplotlib\n",
            "    Found existing installation: matplotlib 3.7.1\n",
            "    Uninstalling matplotlib-3.7.1:\n",
            "      Successfully uninstalled matplotlib-3.7.1\n",
            "  Attempting uninstall: ipywidgets\n",
            "    Found existing installation: ipywidgets 7.7.1\n",
            "    Uninstalling ipywidgets-7.7.1:\n",
            "      Successfully uninstalled ipywidgets-7.7.1\n",
            "  Attempting uninstall: ipykernel\n",
            "    Found existing installation: ipykernel 5.5.6\n",
            "    Uninstalling ipykernel-5.5.6:\n",
            "      Successfully uninstalled ipykernel-5.5.6\n",
            "\u001b[31mERROR: pip's dependency resolver does not currently take into account all the packages that are installed. This behaviour is the source of the following dependency conflicts.\n",
            "google-colab 1.0.0 requires ipykernel==5.5.6, but you have ipykernel 6.29.5 which is incompatible.\u001b[0m\u001b[31m\n",
            "\u001b[0mSuccessfully installed PyMuPDF-1.24.7 PyMuPDFb-1.24.6 PyYAML-6.0.1 comm-0.2.2 dataclasses-json-0.6.7 duckduckgo_search-6.1.12 gitdb-4.0.11 gitpython-3.1.43 h11-0.14.0 httpcore-1.0.5 httpx-0.27.2 ipykernel-6.29.5 ipywidgets-8.1.3 jedi-0.19.1 jsonpatch-1.33 jsonpointer-3.0.0 langchain-0.2.7 langchain-community-0.2.7 langchain-core-0.2.41 langchain-google-genai-1.0.7 langchain-text-splitters-0.2.4 langchain_experimental-0.0.62 langchain_openai-0.1.16 langchainhub-0.1.20 langsmith-0.1.129 marshmallow-3.22.0 matplotlib-3.9.1 mypy-extensions-1.0.0 openai-1.35.13 orjson-3.10.7 pinecone-client-4.1.2 pinecone-plugin-interface-0.0.7 pydeck-0.9.1 pyreqwest-impersonate-0.5.3 scikit-learn-1.5.1 smmap-5.0.1 streamlit-1.36.0 tenacity-8.5.0 tiktoken-0.7.0 tqdm-4.66.4 types-requests-2.32.0.20240914 typing-inspect-0.9.0 watchdog-4.0.2 widgetsnbextension-4.0.13 wikipedia-1.4.0\n"
          ]
        }
      ]
    },
    {
      "cell_type": "markdown",
      "source": [
        "# Setup"
      ],
      "metadata": {
        "id": "tKwglH7Q6Jj0"
      }
    },
    {
      "cell_type": "code",
      "execution_count": 2,
      "metadata": {
        "id": "sTG57rWbmrjB"
      },
      "outputs": [],
      "source": [
        "import numpy as np\n",
        "from pinecone import Pinecone\n",
        "import yaml\n",
        "import os"
      ]
    },
    {
      "cell_type": "code",
      "source": [
        "with open('/content/drive/MyDrive/Colab Notebooks/LangChain/config.yaml', 'r') as config_file:\n",
        "  config = yaml.safe_load(config_file)\n",
        "\n",
        "os.environ['PINECONE_API_KEY'] = config['PINECONE_API_KEY']"
      ],
      "metadata": {
        "id": "bmfbOfLW1pp9"
      },
      "execution_count": 4,
      "outputs": []
    },
    {
      "cell_type": "code",
      "source": [
        "pinecone_client = Pinecone()"
      ],
      "metadata": {
        "id": "xAMyUFHanckJ"
      },
      "execution_count": 5,
      "outputs": []
    },
    {
      "cell_type": "markdown",
      "source": [
        "#Pinecone"
      ],
      "metadata": {
        "id": "TBjKV5Rv6MV7"
      }
    },
    {
      "cell_type": "code",
      "source": [
        "indices = pinecone_client.list_indexes() #retorna lista de todos os index do pinecone\n",
        "for index in indices:\n",
        "  index_name = index['name']\n",
        "  print(f\"Index: {index_name}\")\n",
        "  print(pinecone_client.describe_index(index_name))"
      ],
      "metadata": {
        "id": "c_m-ojXl2H2D",
        "colab": {
          "base_uri": "https://localhost:8080/"
        },
        "outputId": "a1bbad00-e161-4c6d-f9fd-e31bdffaca8e"
      },
      "execution_count": 7,
      "outputs": [
        {
          "output_type": "stream",
          "name": "stdout",
          "text": [
            "Index: nlp\n",
            "{'dimension': 2048,\n",
            " 'host': 'nlp-ptq58qc.svc.aped-4627-b74a.pinecone.io',\n",
            " 'metric': 'cosine',\n",
            " 'name': 'nlp',\n",
            " 'spec': {'serverless': {'cloud': 'aws', 'region': 'us-east-1'}},\n",
            " 'status': {'ready': True, 'state': 'Ready'}}\n"
          ]
        }
      ]
    },
    {
      "cell_type": "code",
      "source": [
        "indice_name = 'nlp'"
      ],
      "metadata": {
        "id": "2VUSW-ziBmUL"
      },
      "execution_count": 8,
      "outputs": []
    },
    {
      "cell_type": "code",
      "source": [
        "vetores = [np.random.normal(0,1,2048).tolist() for _ in range(5)] # criando 5 listas com distribuição normal, média 0, desvio padrão 1 e 2048 valores\n",
        "ids = [\"a\", \"b\", \"c\", \"d\", \"e\"] #identiifcadores para os vetores\n",
        "indice = pinecone_client.Index(indice_name)\n",
        "indice.upsert(vectors=list(zip(ids, vetores)))#upset cria ou atualiza o indice"
      ],
      "metadata": {
        "colab": {
          "base_uri": "https://localhost:8080/"
        },
        "id": "AEzfEfyFojPA",
        "outputId": "8eb0a81a-36a4-4070-ed96-ab79924261f2"
      },
      "execution_count": 12,
      "outputs": [
        {
          "output_type": "execute_result",
          "data": {
            "text/plain": [
              "{'upserted_count': 5}"
            ]
          },
          "metadata": {},
          "execution_count": 12
        }
      ]
    },
    {
      "cell_type": "code",
      "source": [
        "print(len(vetores))\n",
        "print(vetores[4])"
      ],
      "metadata": {
        "colab": {
          "base_uri": "https://localhost:8080/"
        },
        "id": "vH8mTgjSq31r",
        "outputId": "f4883c38-a0b5-4891-ad3b-d992fa307e18"
      },
      "execution_count": 14,
      "outputs": [
        {
          "output_type": "stream",
          "name": "stdout",
          "text": [
            "5\n",
            "[-0.1114519018288789, 0.35760611947717097, -1.2474826263343752, 0.40583986002544725, -0.8962166499824334, -0.4527951921364008, -1.4370428448633124, -0.6268760172674962, -0.9004081146333706, -2.034608839923392, 0.9706101194995992, -0.07868382052599242, -0.8577021256958867, 1.5693445545536204, 1.2750116215752614, 0.3794474854650782, -1.3221086496389454, 0.2817609796502819, -0.7224277279633086, 2.428808256043398, -0.5936357043421548, -0.5815750659354698, 0.8291138610541352, 0.009568930866218232, 1.588445551663377, -2.074077163936485, -0.8372581898441894, -0.15483597020241371, -0.03655565373339507, -0.6570063100740888, -0.20038498125563659, 1.3386588223419817, -1.0875978842592546, -3.1642667057628255, -0.8905783929370716, 1.2865966693729018, -2.358115064984456, 0.012936130514823072, -1.3324287139651556, 1.2697684211148765, -1.3476605285946086, -1.6605830009265823, -0.8880520943204427, 0.21496798898566766, 0.9982455398137237, 0.6277363422609854, 0.5820399998001852, -0.8641950961036081, 0.490377612497796, 0.37193135779242836, 1.091326306007366, -1.3184841601943738, 0.9639240472866007, 0.4385228570329197, 1.001081991387515, 0.13046204703834036, 0.4113893411220193, -0.5773193776055804, -0.7334270995571144, 0.4555180981691267, -0.4191601290141977, 0.31198280939319173, -0.8980548633638168, -0.5526717686381235, -2.0561489921236773, -1.1610264370419519, 0.3663910036851851, -0.40604976507174295, -0.39562743203412193, 0.19266548668680722, 0.6555333535907768, 0.8225935363405623, -1.4382240016581096, -0.5082270462832097, -0.2392315046369502, -0.5598634056624969, -1.7537074760516915, -1.9735103228272397, -0.20998576934255458, -0.43263415323578835, -0.612082970300447, -2.797473094862849, 0.37595720733889654, -0.4048886640204265, -1.467688957888166, -0.23968745157020735, -0.6206188053505582, 0.49366808371952464, -0.3171538024281441, 1.697712242604336, 0.3335696385871527, 0.8803865612035532, -1.432498718598795, -0.5018621683729074, -0.33808546053047084, 0.5515991580733429, -0.3808006773734375, -1.8438176851259518, 0.5733213789929328, 0.25862883584746293, 1.564495270055367, 0.3610322563165789, 0.6872642209525384, -0.5579334596474455, -1.0446137589558266, -0.23087952784008275, -0.6246109894692843, 0.553104212337043, -0.20755989349343856, -0.11386599181686029, 0.09999441982424383, -0.7559339894766229, 0.25654556393843503, -0.01635478129299214, -0.5396721732443692, 0.6608426009815542, 0.15992756738436076, 0.4984145294443625, -0.25004481257855854, 0.5866102526324775, -0.9979428848315386, 0.08079169242130999, 0.5826570764571962, -0.23068084521882462, -0.9607849164778021, 0.047343733951018256, -0.32988178595854184, 0.9301862944848688, 0.411949390074661, 1.3205349577784808, -1.275037255771584, 0.38697127101626033, 1.3285057030282144, 1.2531982290299843, 1.3832099244884162, -1.1339309896622438, -0.33486504401170175, -0.007697403250708958, -0.49966617047444184, -1.1195978638678628, -0.5814031328188172, -0.13812199074463935, 0.6774424668427579, 0.36212569728241273, 0.6637115286575329, 0.22710712657930726, -0.11304473774763887, -0.18487837838937815, 0.011356469923552383, -1.5663826704295687, 0.5927821365567431, -1.467419071365625, 1.0857336259805153, 1.4391795595646213, 0.3026363959139226, 0.37093967944397493, -0.20105397977022363, -0.2886957839251622, 1.5277121834474725, -0.7197742702565917, 1.1479635247458064, 0.198490101145317, -1.6530040198822813, 0.34413700187887447, -1.6080129425322782, 0.2796247836002678, 0.3987028315794106, 0.022660460631814247, -1.643634611427265, 0.6631782462570722, 0.5601762331188593, 0.35440231489475826, 0.46806223964062005, -1.0705547389361079, -0.11868508547072344, -1.1907763179131061, -0.08751847188880175, -0.7057179947994432, -0.7321334289801505, -0.3430763817551706, -0.6686804156982641, 0.2397009289143685, -0.5610190119022362, 1.0764739154954788, -0.17086569616986433, 0.45103225443704187, -0.264755254531704, 0.7307851856492505, -1.5488582697883821, 1.4730910607132663, -1.4242448055417338, -2.420384957898898, -0.6947484749896715, 0.035335867504985366, -0.11824476700697116, -0.3631577680878216, -0.14955499953973272, -0.6592079668616077, 0.649808606424636, -0.04874954147589395, -0.3328498435914254, -0.029490458706842887, 0.9340689900022611, -0.3552648035585461, 0.7672469081077128, -0.9329783590407751, 1.7964877188032862, -0.7118198960440266, 1.7783223462520708, 0.7649380705215849, 1.969178273711127, -1.6551199515563257, 0.38766191566451963, 0.19408721508837193, 0.10685390080679139, -0.2833346597534716, 0.1671606423455615, 0.46728767236218915, 0.2971376088224096, -0.6757815461180768, 0.7471036604049707, 1.7042880401192726, 0.29331832225762866, 0.9061991996024794, 1.6652792224722859, -0.08316155170675284, 0.5505974781827501, 0.8965166680921729, 0.053690690628773775, -0.055037803610426525, 1.2438032730057655, 2.1708282099223317, -1.3094823877702553, -0.23584127023251067, -0.393543433549772, -1.4562440935552343, 0.5445478209972955, 0.2077013141591669, -1.4566268475498734, 0.5316985593676044, -0.04582658964714259, 0.3717128995772926, 0.783256851158161, 0.10211155246740086, -0.7989870837148858, 1.102733778990998, 1.1454850054339687, 1.043588944906613, 0.4926791281373193, -0.053865801794655915, 0.7792370831406635, 2.4381130009035195, 0.4836373806932605, 0.008277794458612648, 0.9971409600339866, -0.2423535750326228, 0.4706860696939237, 1.1664792057123607, 0.2021264733812531, 0.5916939520477863, 1.2527079504473038, -1.4795336506881436, -2.2722404328010146, -0.643751944387322, -0.34426095742679885, 1.6313192945076396, 0.2783322519745611, 1.0470424806798777, 1.2313282574033182, 0.4768041622658521, 0.052813835214811665, 1.2831023865612516, 1.2297972447688883, -1.1151991153396854, 1.538019074600937, 0.8853046744992447, -2.0650925634350505, -0.09089404475395162, 1.9755974410197514, 0.3413057275195474, -0.9148910386956361, 0.8068273101389037, -0.9031722883233173, -0.4541382443366474, -0.36301113747972524, -1.4474175303515044, -0.9213514042718933, -1.599794122745148, 0.9329773509683593, -1.2152452025654294, -0.3354631377934442, 2.2047739003292572, 1.320687205636655, -0.46934807728122185, -1.2176898013555812, -1.1835950399656376, -1.4997811530501315, -0.0731077240571298, -0.26100988990258295, -0.44604544262086127, 0.33479043430619115, -0.1549187734837276, 1.1795155812053968, 0.18367172032500426, 0.9626594837914756, -0.8593740099494972, -0.3394704205753658, 0.22063254321125708, -0.06293459869689341, 1.3276595555043367, -0.3220586713757457, -2.100971330954001, -0.3332673539700573, -0.32117929743494966, -0.061769053651607946, -0.4466547168623025, -0.740232677915155, 0.6823569213434543, 1.5693664649384678, 0.8150230516040697, -0.9736004799479492, 0.9166342178398309, -0.8028183256240029, -0.5908624658397731, -0.10082862599085522, -1.060973184166615, 1.4904396470001577, -0.3946009137639354, -0.538017324190966, -0.12437685692976834, 0.7646515257705105, 0.5997115647742602, -0.7374769542875136, -0.6467987445701598, 0.5287317910327611, 1.7348403755533555, 0.3130877951510519, 2.145357259272846, 0.08728819865253985, -1.7325841472770707, -0.53779437156524, 0.411540252477852, -0.5971157541851974, 0.1390833810199586, -0.2621587187005697, 0.0310425232110497, -0.6036845760281175, -0.3571662059137505, -0.5369248512011194, -0.06333159103219665, -0.6689005150184766, -0.020462867751746428, -0.050622240823735495, 0.7900322183276146, 0.7586421410182177, 1.0663563691853755, 1.2361390576371887, 1.260645858991186, 0.10020794764348123, 0.08806828733445708, 0.018128964794642318, -1.3671690744842362, 0.9113599562874285, 0.0936482545505428, 0.4278580948863104, 0.7310799164713404, -0.9308769375288412, -0.9609911596326238, -1.9210095175690514, -0.7645059892397261, -0.6920048544913331, 0.31175095976795614, -0.38876304496313435, 0.8151494187545643, -0.038198842579957974, -0.3882898748685672, 2.120400933254567, -1.8841454575503112, -1.4394535395959678, -0.07627498183534655, 0.08361290334705454, 0.11265893464735657, -0.9285517339662409, 0.32881801202524785, 0.4944276544421695, 0.3810412189355923, 1.2184122546655693, 1.0254379258643092, -0.5262510131572403, 0.31824648778615366, 0.5408263314861227, 0.47625787082177473, -0.4245269546911569, 0.36406925668981677, -0.7496594654390967, -1.1543027391029508, 0.40202040707389336, -0.007437478232253759, -0.48389524517393645, -0.08186266382936788, 0.3028924031638859, -1.4084340984447428, 0.5822230778472466, 1.2023082449453393, 1.55374719464795, 2.4061633144037846, 0.3957257931420531, -0.14305793349949597, 1.2474405371442494, 0.7281072383953312, -1.2802412904541354, 0.8161997758582961, 0.7634456405075521, -0.38771708639381947, -1.2189540574338964, -0.7899030304255233, -0.4674650751497232, 0.36436799155574634, -0.021874592063865713, 0.8622222519050721, -0.7228869925274093, -0.19336741658089823, -0.7036901526789815, 0.07711062048813619, 0.20910268158937145, -0.37999619681164354, -1.0757492943600295, 1.500753940751775, -0.39787371889671735, 1.4850830522436913, 0.12565963881009562, 1.3487813769926045, -0.763596567926084, 1.2446530463386811, 1.6828880308601368, -0.516361295543207, 1.4219322954669364, 1.2184792508120312, -0.3097451827183851, -1.012853322664463, 1.080776009830663, 0.5609903497635362, -1.3227124631871512, 0.9910295676538075, -0.8107485796099834, -0.9193839237441074, 0.44664441273073463, 1.2084244229605832, 0.0023797183905128623, 0.12889696863085892, -1.3372902829287314, 0.46379739092738, 0.8390824005266867, 1.4151278833908019, 0.04152161386125286, -1.7318395766200798, 1.3772777674318042, -0.06095659111034591, -1.2023682177735586, 0.5660917195381734, 1.675187022141309, 1.2785504767866962, 1.1264864590185246, -0.4841857065091454, -0.9676160457590598, -0.3761248357711998, 0.04708283061106382, -0.15980182553354802, 0.35294653814342036, -0.27382241053097883, 0.9192930758731886, -1.147045007100937, 0.817829828399757, -0.7659198417820242, -0.20197315927336681, 1.6814496105237104, 1.6772040170005484, -0.7786436503392486, 1.4580923782873718, -0.5046272254935595, 0.09156763981156574, 0.7260909957850632, -1.2222341179040532, -0.06396992539036607, 2.632796340119053, -0.31415838139046093, 1.4746980655740405, 0.12131564052324752, -0.5499704370796554, -0.10267195599658424, 0.2989852752634825, -1.4425723992653352, -0.22708688557585324, -0.6759425032576584, -0.059797374603874284, -0.2981364273904953, -1.2765114886516595, -1.5322348585581271, -1.3860243475068226, -1.6283316525912452, 0.026625384926151976, 1.8947534028138435, -0.8739809376489025, -1.673330693592829, 1.177603574092873, 1.4637692512598717, -1.067317946803224, 0.07800982930966428, 0.15863116451795817, 0.03665299270200447, 1.2434830690420375, 0.5533400332212017, -2.4956576123960406, 1.8253035316753294, 0.3981029056764611, -1.0166141304928458, 0.060873545368810136, 0.2710293802039555, -0.6498279450845388, 0.5775696378977955, 0.6871010863205804, 0.8609110390682503, 2.107255989505676, -0.7962558848401932, 0.33473512040518394, 0.9283061582809681, 1.403637494688475, -0.3997765054496913, -1.3739164041327676, 1.6049939886979705, 0.8100312496379006, 0.762417693094924, -1.0127976952336317, -1.5006143987566956, 1.5486373766737997, -0.45068317487878623, 0.3865482196697157, -2.335065164766435, -1.0850880059795038, 0.5363002372277793, 0.905199532696643, 2.139592465577142, -0.9488650946172329, 0.1505596321022306, -0.40367100483339025, -0.08202315154293567, 1.6293547904360246, 0.37567649581186197, -1.5373570127238056, -0.4495465359273426, 0.5366378783209789, 0.7674458084288641, 1.8220843946525405, 1.5781625176397611, -1.2577045481817817, 1.1546101939779985, -0.025658983909103303, 0.6647638267842533, 0.4692621833086494, -0.08222741147537645, -0.19217633356752925, -0.614179057270758, 1.053343546576619, 0.5493985408328619, -1.6009508846916336, 1.6084498769771778, 1.0354502359554116, -1.610039103542011, -0.3412523996666161, 2.325708263815567, 0.9636059499888703, 0.3734913815986572, -0.20174866377430922, 0.1374193181909117, 2.6780149081084494, -1.308099507050397, -1.1449359323348909, 0.12292247520856549, -1.159161188071132, 1.4650600997135828, 1.0655473303863396, 0.6245890972163444, -1.6068318546506866, -0.652665348780675, -1.0264837493796082, 0.06011329553842378, -1.7985314154897034, 1.0448848056053386, 0.6428736218351869, 1.9291841970884278, -0.7842443519241714, -1.024270622142994, -0.6847487672747133, -1.4389750468482156, -1.1253322254077127, -0.3004847119490401, -1.334756784447131, -0.6570252513589981, -1.3844974653727098, 0.9702271909307418, -0.7637168343093559, 0.7354187872292102, -0.04420311442495232, -0.271428080486672, -0.8848584278310403, 0.3800922426261667, 0.4437815156230519, 1.1605926589594182, -0.2835336665647783, -2.152766294102438, -1.3361778645269557, 1.4799680402974404, 1.1343079176569955, 1.3819027024393955, 1.3942731113704572, 0.492323803029271, 0.2952039560528759, 0.2858859961779629, 0.8185723313203566, -0.2303074995604091, -0.9360735412250101, 0.8660025020091473, 0.8119626205700755, -0.2821132663240126, 1.8007753572778273, 0.07586980552309085, -0.070586778067012, 0.19060981516517156, -1.397534800639078, 1.4316022108512847, -0.3762945119977201, 0.029062955354248656, 0.26434752961150315, 0.14971918888492286, 0.11736108967799225, -0.0036322283137418137, 0.2874180760475249, -0.3089315076267762, -0.07491412163011883, 1.9894449289152079, -1.1607485486652382, -0.3252936744342384, 0.6075738274869071, 3.7388396753775557, -0.933467521051568, 0.08437730378987157, 0.8231230864718733, 0.10890924170856625, 1.7484578521387397, -0.38345277701036445, -0.7139260864958862, -0.2993857673447976, -0.7498000028636976, -0.48018097396793163, 0.6516193890424776, 0.25781108551113197, -0.08498641666538329, 0.7020837214559079, -1.9214047942998551, -1.5172298001557198, -1.3832862975004763, 0.3779301890112074, 0.4014758844797444, -1.5610238162592558, 0.023373798956683022, 1.3320105986208024, 0.2670884694063811, -0.12149539466842924, 1.0578385855931858, 2.1304142967166606, -0.8034768158380677, -1.0261410332509098, -2.5577905737945295, 0.45190470415447453, 0.3572437970078043, 1.773619634330891, 0.23924906240863, 0.24076702144837964, 0.43263216593884996, 0.5537344720193872, 0.6891976227665736, 1.024419872757008, -0.0024784199821993335, 1.1427992917213485, -0.4985913931169438, 0.055154776166871235, 0.6072771172855621, 1.6680434648891285, 1.4788488521194674, -1.318815503386899, -0.3128983537862883, 0.1896406614837229, 0.17175203863986557, -0.5179969781368371, -0.1880930939663061, 0.0011025098891597343, -0.33577261928497487, 0.49646541393337734, -0.8413004866526546, -0.3191520730604909, 0.7371333141874405, -0.4543250652755503, -0.22341305943090012, 0.3376694090122602, 0.4154398593090084, -0.8034641099028758, 0.15802346795855293, -0.6850072486858797, 0.16391734382953085, -1.6209251781034284, 0.5518809034143911, -0.14204784345877697, 0.835937875365181, -2.048074483439394, -1.4715277673573899, -1.036814069439362, -0.3494252351826336, -1.205480882699698, -0.9477417603219837, 1.0918014285738973, 0.029351643145247124, -0.653864868336767, -0.3354788770372117, -0.7311964044409993, -0.7760246144362836, 0.15761160444974626, 0.02740621889388532, -0.5087005081803769, 0.4239978654177119, -1.9612301708308133, 1.0033295122549233, 0.9707629200990847, 1.5238284265728868, -1.2090401356035327, -0.4007426449222565, -1.5448834000116427, 1.6474753433843994, -0.21101508266554372, -0.5942715851355627, -0.6478081320645533, -2.4971866610685516, 1.3636542401130833, 0.40440549133286274, 1.3383155229976536, -0.4719547886229506, -0.8525197829106694, -0.051484318344738204, -0.6099437800225462, -0.5792743853085741, -0.7040822296477346, 1.047634027692581, 1.618394933325912, 1.055399836098095, 0.049155952529282336, -1.3979811204797725, -0.2699455337897044, -1.7556796206190353, 3.4624526951646204, -2.2495179402399743, 0.2144529866478078, -2.4864845263445914, 0.5032063311542337, -0.46555378015237325, -1.1888781095828154, -0.9919378308581694, -1.2616854020707107, -1.5020881015729945, 0.43001437397587927, -0.03446789781087099, 0.014124147711027046, 0.13479098959373023, -1.585192293854501, 0.12737510137842178, 1.7224160112621008, -1.7154175248859709, -1.017289377723709, -1.8310836529960457, -0.5498302243339259, 0.49780689645681514, 1.4401742073075605, -1.1451696917839467, -1.5041868042046647, -0.954025064170907, -1.7807343380822955, 0.8257963998753176, -1.410415389340228, 0.1667009820224155, -1.3965484548576819, -1.2218479377449076, -0.7931068217507191, 0.3207685086693536, -1.6089944928584745, -0.21085225543284083, -0.3568909869087532, 0.9279644486170382, -0.6085598874629118, 0.3151228808807773, -0.07310945375607925, -0.5085682668424576, -1.2537643301229093, -0.7996579553901152, 0.6690258481789363, -1.4455428003748292, 0.12157541141438669, -1.4913987782427178, 0.31752807226287033, -1.095776960466919, 0.049587452713529045, 0.5679345757457439, -0.20121575752647364, 0.5825234243847264, 0.9317132727766967, 0.5829256247607194, 0.18141175161442782, 2.165697649283451, 1.1699508081090024, 0.816103621205691, -1.1710781588444783, 0.09773252730864948, -1.7458897079936562, -0.853866461353427, -0.9761534504866555, 0.39244208109581785, -0.26078603531908856, -0.9722242022960403, -1.0691636656120707, 0.33747674798137145, 0.5384656802689287, 0.3955473710773999, -0.6840023923402037, -0.4621831278127672, -0.7341211742218277, -1.99172671590046, 1.8112635351224682, 0.7696981600454277, 0.11195840847093613, -0.6521710743850456, -0.3275697325551945, 0.4311209910664728, 1.585673211436835, 0.24299676850000182, -0.45554299469057924, -0.8370861332500276, 2.076796882053405, -0.15272723979870342, -2.8160068552589705, -0.8972395247978852, -0.22677803512576591, 1.4017125326694244, -1.8053490728272523, 0.3242723236555255, -0.7670682016561636, 1.4996734994082286, -0.4856667322356928, 0.5331091284039948, -0.6158731960802696, -0.39740558233720885, -0.5662199073641259, -2.3842429595160213, -0.9779672666688829, 1.592697968756722, -0.9346734042156383, 0.601609555171039, 0.29480349627969904, -0.7710447997815421, -0.20527296579841955, 0.9129129939724425, -0.012515450644540998, 0.36383938516582504, 0.0807700881044052, 0.5477467384332572, -1.4998582758322407, -2.3488508969268755, -0.02971230820287438, -0.054368435122135024, -2.206629622618564, -0.6202028661071268, -0.41433128729779994, 0.9452465136182914, 0.1191466184630929, -0.8377836240833219, -0.3966644729602344, 1.1903085666037843, 0.21904752058276009, -0.5935491608228047, 0.1259137527984338, -0.05111771982985633, 0.2858853561532916, -0.7730034518640537, 2.468751070577595, -0.5294318189067432, -0.35436773717551623, 2.266047642362887, -0.4809276558577306, -0.42739677843159146, -0.9432779732398254, 1.2763444856818442, -1.392437617336038, 0.918118041435417, -1.5658073248340858, 0.4966153961950523, -0.5568502970453073, 1.0172556798799373, 0.719632562929572, -0.2801532666994183, 0.08414162933980385, -2.05084066520172, 1.452779462860426, -1.8614095151296373, 0.16479584742878522, 0.5344734179903489, -0.7104201530646355, -1.5773572745966553, -0.42880513301818773, 2.5342014617448423, 1.725599915957631, 1.6550143063586997, -1.423729567856906, -0.9565927801032547, 1.504093258476479, -0.4739358415775092, 0.07531994373016596, -1.029441971769699, 0.8546987609360667, -1.3811897620514595, -0.49412873766406523, -1.0459150650702773, -0.5438131122738586, -0.05398494176341866, -0.4408591389086026, 0.9188940257616623, 1.4430561193721094, 0.6162305830082245, 1.7503168765471084, -0.021651520558063297, -0.26512557701042333, -0.40578472639214286, -1.1647676045155986, 0.10362737494424462, 0.07639934977082727, -0.06405317729098646, -0.9611751959541658, 0.7149356431758974, 0.5850417044066459, -0.8414728455673257, -0.40413705956611107, -0.9765245749165694, -1.1887260576433254, -0.33805832793654994, 0.7043954699634825, 0.01108950638510785, -1.3536344000647493, 0.187052333163807, -0.7575626920970299, -1.4677440089314309, 1.3299620467154087, -0.5947009487637688, 1.3463085977085003, 1.4320932759983247, 1.1913233376056214, -0.32176886320336684, 2.2660025319208232, 1.813211448173203, 0.06187859887060543, -2.4158683234144402, -1.1936264423378122, -0.4729751086453685, 0.2730876581106445, -1.2938814984030882, 1.6801120168448906, 1.1774917093701476, -0.18758660277302777, -0.6855614154448355, -0.4169017388761694, -1.0087701026961498, -0.1507698335662743, -0.07724906230427986, -0.3054123716380041, 1.6525915855663134, 1.1292707617080997, -1.0332973817095485, -1.8159028519491855, -1.058468703758222, -1.1639645065584148, 1.2788139573168924, -0.5865679929445575, 0.5129036308091312, -0.5569709453416377, 0.8449555256367438, -1.6219325079002476, -0.09232809063101893, -0.5998970225440072, -0.6825694270131097, -1.2087067097707147, 1.2150395596543906, 0.8710751190859307, -1.3081553085107527, -0.24042822230056793, -0.25760168776475234, 1.054386241293725, -0.5896535809472193, 0.47296607634974486, 1.418268304438498, 1.561073677872057, 1.697111670061748, -0.9633776107330292, 2.4856112639833317, 0.6494075714856725, -1.5352473229974322, 0.5945527077390805, 1.5043420665348322, 1.47572154769522, 1.270851781566148, -1.4511107868085464, 1.0689150987692717, 0.3923526562476542, 1.0957796246000515, -1.3022603310809175, -1.7290440744447235, 2.221540375224981, -2.3813136482287334, -0.25017366915735983, 0.01672772632136479, 1.6589370517918494, 0.5097499439395009, 0.48520510913834314, -0.6211527256012014, -2.165611565487295, 0.8017875350802645, -0.9257850656329325, 0.7462898357989107, -1.261923942771676, 0.6193037722543457, 1.600979128020362, 0.7868018530324975, 0.47867657691944604, -0.8004558498683657, 0.9993219414431624, -0.31847061008629907, 1.5740135088076759, 0.3352811500131638, -1.372572028116832, 0.8788617222879815, -1.6683191729325046, 0.31493022823600264, -0.950703403431628, 0.9168255018443672, 0.2627432458674403, 0.11575724989290247, -0.15756900002359212, -0.949220183751627, 0.42392470977456553, -2.1529505738950703, -0.7415637845679559, -0.03769891156134775, -1.3984160548341973, -0.33449523965971334, 1.1125528419416673, -0.3602514009767498, 1.094596849912596, -2.1003792241273307, -0.4285408576311204, -3.1253875362850434, 0.47095141251533507, 0.6610390058078774, -0.9304535625274725, 1.426919376692118, -0.06445611379042034, -1.020580985680655, 0.045385781180920785, -0.27665928676021373, -0.12363624731845563, 1.8988428080962576, -0.22618672543417392, 0.8521988763299512, -1.5307001552907102, 0.44564932970542515, 0.06202826554022796, 1.0176555967523366, -0.45666876876208334, -1.151277606910792, -1.120994591536238, 0.43622010459050015, -0.517882581012608, 0.5962862538468525, -1.4555600156159592, -1.9876012355189516, 0.3608736159814758, 2.5024581328797875, 1.5261705175726195, 1.9719074308583227, -0.0661898003555433, 0.7781152306930081, -0.5570012691624775, 1.8995457956638253, -0.25681082888843254, -0.881802377808874, 0.9532622761521162, -0.8058554578577393, -0.18644016618145523, 1.4118532976483602, 0.255061662670887, -0.2756065299273217, 0.9972827488493967, 0.1559504422882225, 0.33263009299438584, 2.2514732252516607, 0.9863774785716041, 0.6875519321219542, 0.6121387848471491, -0.5911106163227154, 0.2300363093422118, 0.4553556997854275, -0.48794088955845355, 0.5452478197266087, 1.771262463142483, -1.3810419952319892, 1.9295533313524247, 0.5068748707658125, -0.6607088435956586, 0.9501072376651918, 1.3809190139826424, 1.086200413863827, 0.7059944144691336, 0.5223332764575677, -1.0048369510521145, 0.9521613647728189, 0.9916893052893169, -1.2956682146768175, 0.8196641236495174, -1.9471510212810412, 1.2129028614133173, -1.0773827782991914, 0.18719769201454264, -0.8938345350573643, 0.045681775683580256, 1.0959004973304487, 1.0635691002923173, -0.23099074476103046, 2.132273585028692, 0.4918196744616422, 0.8561281144340473, -1.0787102792823824, -1.0418227555672646, -0.6775031643458833, 2.116250547291751, 0.42403202591129546, 0.0024927052970928846, 0.7265874816738209, -0.4432326400411037, 0.010270039124930208, 0.14018005547626608, 0.5125400442716959, -1.482812149130589, 0.2775218080587262, 1.6298720202197599, -0.6799161698097699, 0.4697599606930306, 1.2785220435890259, 0.524997923112232, -0.6816467233874257, 0.810565341730751, -1.7131842206224026, -0.6572421892175979, -0.21768894450260823, -0.45256975931139254, -0.09294562635320743, 0.12229955004520832, 0.34887146244292544, 0.06764536856908471, 2.866664577434359, 0.2739319488534378, 0.6638445814068981, 0.7881373218645407, -1.1287279898248388, 1.2746055890018566, -1.1015960281536719, -0.2762027557899238, -0.7445477820252311, -1.9021424697627933, 0.609871541838679, 0.2649569429085902, -1.4421723953068142, -1.9450604674459986, -1.096799540522134, 0.923935373077105, 0.48120072399686015, 0.7105224282780448, 2.6722868761552725, 1.021904810623928, -0.09234536998416497, 0.8873725414738699, 3.058604048704047, -1.9624840043750675, 1.7859090728887044, 0.27671731861196075, -1.7648895576038286, -0.22459377499909186, 0.23358047151213998, 0.18596033037229256, -0.6209229917142529, 1.4088956027676787, 0.5034376601685812, 1.6316156287971175, 1.2481113503459829, -1.1449044961297277, -1.2397157587340721, -0.8629298789013223, 0.7166930636382789, -1.7175614932254202, 0.6829468688095125, 0.9496251987827974, 1.1179438786322045, -0.45430809313557396, 0.8716607426171517, -0.9904829034520333, -1.7634479989463987, -1.0268977568971192, -0.7967986132726658, -0.31206099598489806, -0.3547687660836566, -1.3881214337910648, -0.09473486381799248, 0.32247232222000466, -0.3776553402252879, -0.010023299378981129, -1.430208044346235, -0.06703968169068562, -0.14549544306819648, 0.9112984338815571, 0.4735782624457944, 0.2093555412744281, 0.5499711236098549, -1.2241138543093812, 1.212016588808663, -0.2634667308011902, 0.4196144785769722, 0.17896001607980216, 0.2654796136990675, -2.1368003030757183, -0.8239966427724692, -0.0025909363990390065, 0.1772358904717664, -0.7535505269983521, 0.9354321309741263, 0.836677221917757, 0.9654997555203194, -0.36574983346142237, -2.1456889995117856, -0.26579582857497575, 1.918681627035724, -0.0017652416489724978, 0.10362766625286758, 1.191018902525009, -1.3373244004910294, 0.4986612554888808, -1.1961113745331622, -1.032136706265966, -0.04787591987218663, 1.5020161360363309, 0.6028047234792829, 0.2048387385468262, 0.4021261813933108, -1.3095897063891024, 1.0948995039814622, -0.5480461329759952, -0.49876037748799174, -0.5621733145910248, 0.9243119714896942, -0.546201014069525, 1.2988903326948404, -0.8534958215881577, 1.126526434591967, 0.16665291956165443, 1.0102720821830227, -0.7108353097195664, 1.6839236736297287, 1.0959391243186913, -1.1219144654821596, -0.8758256368387485, -0.9299041045268257, -2.282592824687364, 0.22457590328360688, 0.814840671368354, 0.004308984951538593, -2.0044616272590012, 1.2171379305429988, -0.6635289404770657, -0.801473947050848, 0.7334549312154398, 0.6217863762814314, 0.1189941349257557, 2.0252675319463114, -0.5807148003048676, -1.51570652692218, -1.9684621487673843, 0.14606615308090776, 0.3180977910922852, -2.4504108107683766, -1.3158157874290526, 0.13257372248760388, -0.44615149522061665, -0.18383567790703492, -0.2102396798649901, 0.9006015623795963, -0.8346652934707646, 1.8598619123921811, 0.8031451605354585, 0.858639560002214, 0.8191181883871392, -0.19336867445985317, -1.5553563869793265, -0.35240381964158574, 0.285335670657412, 0.1822367532503184, -0.35603435832393676, -0.31440229006168224, 3.1093657676915707, -0.2852587495711938, -0.4626372712787781, 0.7665288921750674, 0.20328429298627612, -1.3077044952387962, 1.0492560402077058, 0.9529161586848532, -0.5471755828138, 0.7098476971692504, 2.152445285454677, 0.08335900439371655, -0.5583922897413763, -0.9390669953757844, 0.3239697646360395, 0.1830515461948653, 0.8952451532649431, -0.47906734837230847, 0.027588155991939985, -0.4847262435477095, -0.3790170834831487, -0.04031488911062979, -0.2765170397788228, 0.11933017313814782, 0.5221701011946984, 1.2756609659076235, -0.9831643235433127, 0.030254889470657385, 1.5042392268857554, 1.840021483288099, 0.6979396073266448, -0.2482794746826299, -1.1156793280099189, 0.17397167598972643, 1.8052124961651943, -0.023065517719787446, -0.7750108328675234, -1.3304083784855198, -0.27977859428766527, -1.0156217775916327, -0.11329767280145946, -0.20195570682492828, -1.4359624403533253, 0.6813324523874159, 0.23479189614903864, 0.10749809717196619, -0.03415279244683456, -1.2208305412234965, 0.6374737272605352, -0.4047717808558276, -0.5644886708149881, 0.6532011675100645, 0.4040783153816346, 0.2118845967700769, -1.2201072034988818, 0.09003421681114052, 0.2843322151026235, 2.401864510602819, 3.019628320648222, 0.4315681529771708, -0.6089939477062489, -0.17282438189142252, -1.689335430345694, -0.29161546452064224, -0.3466229102628972, 1.155612399883959, 0.29655576005092804, 0.05555923303665959, -0.24020059015824125, -1.0683538035131273, -0.18698757613125233, -0.059560706566003666, -1.0114564608957775, -0.0019372200412825654, -0.024130409698562547, 0.6452707890097656, 0.635643431471401, 0.3970391534393995, -0.6613575421043398, 0.24746640143516843, -0.8406524736855105, -0.568171925207815, 1.8631399616051671, 0.7124287641335898, -1.3580193683469792, 0.5423992854277206, -1.7460045141134293, -0.7936495248736942, -1.3026999042936431, -1.5304106543461522, 0.4957582537003675, -1.1278790729020454, 0.6024982271731223, -1.262252051962251, -0.784963134240138, 0.28777046395621, -0.8286621141193057, -0.04312784731661053, -0.672948301946635, 0.0008833628451082977, 0.7378206604729112, 0.8431548672510565, 0.7897159969977927, 0.2587526047266633, -0.24923175661902836, -0.8533653536518737, -1.082928111233205, 0.5301156817540176, 1.019430429730814, 0.06522457049592648, 0.5301571857541463, 0.7869669737000372, -1.7395435055334068, 2.123554853505097, -0.36420051842133555, -1.0301745400126607, -1.137939014653662, 1.6874966909363958, -0.42075343839072143, -0.5900170754592289, 0.16632496127772672, -0.1977566304869834, 0.4175622556417299, 0.02251969891798649, 0.1531888823071097, 0.02967276192840732, 2.3832814657020225, 0.4857664786374679, 0.05659685026498383, 0.9224889471963922, -0.7818211335107945, 0.5691586246511977, 0.2874378941063312, -0.9328734548532159, -0.3586698246760737, -1.3204082836465865, -1.6427563023447282, 1.8009201056204864, 1.4326007894773065, 0.2471119360431402, -1.1351448273842355, -0.5629146562020794, 0.6598691399245574, -1.5770467226561249, 0.35847443534986645, 0.10130944926873785, 0.3253584171878434, 0.7766460417058324, 0.4464108352840092, 2.285271845638629, 0.04337043971025396, 0.555424866166289, 2.3191531974476214, 0.048944912013302165, 0.8727869529135015, -0.058396152784505585, -0.8476558659598451, 0.3188174811411317, -0.08936923817449938, -1.3015568637139336, -0.34703837953079436, -1.1057227725638181, -0.5340785167433643, 1.9906943893843712, -0.8278854029406538, 0.06786225929555677, 0.010177274928394616, -0.09562652409662797, 0.2454723728201362, -1.3611973219192277, -0.4430210427351498, -0.37460763774795103, -0.2815140915216552, -1.263145269406155, 1.1301896804558313, -1.6990656377549234, -0.722813035663839, 0.23663849032459036, -0.21427768986639845, -0.6661950902620616, 0.42421877425503635, 0.06281467722586442, 0.9857668308700526, -1.373133064728357, 1.7752390191907055, -0.3817606131846375, -0.1740438280259265, -0.06617469505096539, -1.0194560423399048, -0.976750596108253, 0.09277668298728049, -0.3908443615550506, 0.827074399137707, -0.5105603954128625, -0.15095360279152129, 1.278796446188064, 0.22933875772929138, 0.34042282945901925, 1.0409991913943988, -2.575824940044468, -0.004599465343790285, 0.29210494961008027, 0.47556842144551476, -0.6297741551762353, -0.41874936114725314, -1.14361891474886, -0.5049440518583193, -0.3192526110308651, 0.032979727436387246, -0.2146429748442571, -0.7284449224025688, -0.3270149322833139, 1.427080988887432, -0.321655820481335, 0.03062115930488855, -0.10858060573073632, 0.25026287263071484, -1.4659374257122482, 0.33971086566903785, 1.0912111200904626, -1.4186127323288913, 0.6237419173388483, 1.2300168113850711, -0.10781071905175288, -2.709266519214878, 0.7657029010598135, -0.7465538985575172, 0.03322778291642853, -2.40233376366236, 0.03318773789445787, 0.6058978644821094, -0.19162688503158745, 1.7710982499692596, 0.14895420411129912, -1.5658770036442218, 0.5930724741098422, -0.2671791399881277, -0.28014978030665333, -1.4544887773899837, 1.2675196311194397, 0.770536381975992, 0.30671258649819366, 1.9310267009803797, 1.4853196852298387, 0.15600544280120823, 0.14281584600187483, 0.028243056390865856, -2.7230758294943227, -0.4285408636741617, 1.1092675304337054, -0.5170207920364739, -1.5742020662899958, -1.9765322957597418, 2.4366453724153687, -0.08633320456491224, -1.9045617542041304, 0.8750554657514767, 0.5853417331552793, 1.795666410830649, -3.9058750558035387, -1.4206890618931793, -1.0019257187286397, -2.4762855920921543, -1.1286229648795387, 1.1256105147226823, 1.779151631885222, 1.0449295810550414, 0.10902340031452308, 0.8190814045062099, -0.36928418248249395, -0.6112094522439211, -0.9686257138060483, 0.5234844141530308, -0.33345792835517, 0.9601805404521552, -0.2013871141145473, -0.07294445482015588, -0.7583404709018804, -0.8591730704468651, -0.30685564508992136, -3.3485370131018417, 1.4449673938705856, 0.890019834090333, -0.9638891374366482, 0.7720567113901379, -1.5683578821537154, -0.07535539719529315, 0.06347045504702553, 2.6752096335713578, -0.6348446225181437, -1.316297968506868, -1.8481132775010847, 0.34563686796308996, -0.21096973702948865, -0.255830471135478, -0.027482280356340184, -0.15324460299075596, 0.4695725391671578, -0.6311707385094685, 0.5208056022250201, 0.9302780423201843, 0.4514714709221655, -2.0513724434169363, -1.1466668056483305, 0.24278338542742428, -0.4419737650099861, -0.06726811577528119, -0.22723511521641995, -0.26702031772148216, 0.9230461668130199, 1.349299407241587, -0.3105777411562361, 0.053682900359263416, -0.10826463822115526, -0.835812247378951, -0.4192464263475638, 0.36201016371678496, -0.7999935809039107, 1.246560459041765, 0.23741719201418407, 1.1685081234850507, -0.7976736228831482, -1.0095658878936602, -0.15509100174633786, 0.81741561602318, 2.5261488759735764, 0.09556281007482169, 0.32339635452903354, -0.07325966845354479, -0.8359367977153364, 0.5485290095666202, 0.5542365175977896, 0.42386248899376733, -0.05903942760880891, -1.0416816249540488, -0.9815588695513436, -0.2428207406226997, 0.037643273346369625, 0.38909425011224186, -0.8044637688434672, 0.3031620279901012, -0.36312287987208464, 0.24043508396165097, -0.484007238086099, -0.15134963977250362, 0.3157669656610531, 0.3291437674249875, 0.0401133533912655, 1.0460219098955055, -1.1753547094378625, 1.126723504161339, 0.1723247602051977, -0.7583568458245057, -2.5527290712131574, 0.2660126767633595, -0.3471040332796685, -1.2033082062449327, -0.9987816161793238, 1.5964589438002526, -0.273338284632255, 0.05213040701768068, -0.40133156954670307, 0.48853954182023346, -0.2562133557134308, -0.9550729792698261, -1.5544553503366938, -2.2671574026873618, -1.0711602950645338, -0.9374203179042265, -1.1432096048099818, -0.22488967296571855, -1.373661175647975, 0.8741264695172093, 1.0118380814379468, 1.909834194838226, 1.5156281087047012, -0.9120178606037257, -0.09403721238203495, 2.1337370114178915, -0.2930082334919823, 0.32975196980343674, 0.7780744841457847, -0.6995649744793577, -1.214400480217994, 0.8096714679516575, 0.24363502438454837, 0.28718427836663724, 0.018423196596480573, 1.0323392753158274, -0.7118720829457972, -1.4582421796748462, -1.2912857512763452, 2.6534221202142594, -1.934942807885402, -0.05714233827519428, 2.4415744303453475, -1.2915407047290026, 0.2536423872839418, 1.07964623088276, -0.19308545568787974, -1.2887274279138599, -1.0808719969067602, -0.1627559014896488, 1.2741841935817055, -2.9697020620295502, -0.019597039176238944, 0.8592203793756897, -0.41669855717431015, -1.5546717726778574, 0.6120608175405349, 0.543698870967307, -0.025005757762272054, -1.8923148971354808, -0.044856680036099016, 0.6797352544254103, 1.1306497382047997, -0.15598725741488795, -0.8226796502142071, 0.6291882854403565, -0.5535387094445252, 0.2122494249308378, 0.4134878932095443, -0.7643162564055853, 2.7296743718155003, -0.3747569355869742, 1.399942248759271, -1.211775532227241, 0.9412959419461318, -0.6513857197007887, 0.12745266212434594, -0.2506096301879661, -0.8650083843729529, 1.1999295249853241, -1.124409384868355, 1.148142569641661, 0.0077177398356181376, 1.2312126058278925, 0.2822051643475968, 0.07224305069626996, -1.1275764440546314, 0.12903570706763023, 0.8464241150534861, -2.472200594700048, 0.19616510413013655, 1.1089105487600939, 0.8083282497068309, 0.5949975254765476, -0.35994267726581625, -0.8471182219942014, 0.3606598094089956, 1.4412194757253238, 0.4563841874697048, -1.9323274838556916, 0.570139866615323, 0.16005913856001724, 0.9307210777202107, 0.5589725465099721, -0.34663494807229134, -0.31919368909630846, -0.23068320615191668, -0.7574713604236766, 1.211186513834283, 0.6406936360426241, -0.9214969803731516, 0.317995536958312, 0.6337988260100871, -1.158404427145177, -1.2844480767923931, 0.3758335479959173, -0.8524259883094437, 0.4311926807922309, 0.2857563138082534, 1.4207989233523175, -1.1347085912401427, -0.36974857985783555, -0.7943984265113944, -1.2633624347915096, -0.2496855232113568, -0.9718410326178868, 0.6711858965253896, -1.6657621328697338, -0.0005952269506689661, 0.9302658192354138, 0.004184106205618123, 0.5768277276764465, -0.8380369862228256, 0.67842596421493, -0.9846923497227213, -1.507235530700754, -0.6941272448549067, 0.5224425988162038, -1.01153035094622, 1.5010231483094758, 1.4709078765178525, 0.9194418460730084, -0.13660312294123142, 2.093060018099274, -0.39023865543918074, 1.2339319362694263, -1.3546669698881928, -0.6014345175663273, 1.2031971019407353, -1.1740965464862785, -1.779428519896669, -0.6493323860042158, 1.0983336505584278, 2.066276148729796, 0.4541448175914925, -1.265436660489303, -0.5890712339686083, 0.9008381596400621, 0.056728739756174484, -1.1910783851824909, -0.05356083671234128, -1.2123130291783446, 0.05863041600524377, 0.49281982025580995, -0.8419950689360245, -1.6312943797871644, 0.1578319394206119, 1.330129254192248, 0.5503558838407578, 1.20588318031513, 0.4222257443475826, -0.768920716588994, -0.9864085672008153, 0.973432265321572, -1.0873387372032945, -0.2428547633486213, 0.4111659211897688, -0.5752048171389046, -0.10411677673006788, 0.06395182999225554, 0.3000923452885393, 0.2230664151827804, 0.5133036488470697, -0.09400069755916537, -2.063003682258944, -0.4128777562914988, 0.7957807868691981, 1.2763821522027008, -0.017314506978639937, 0.12255882146103003, -0.29573535974840937, 0.1811792317033379, -1.0757647784227538, 0.32184678441820375, -0.10217327938412284, 0.10303360300318833, 0.6407333564241942, -0.02639586091392864, 1.6415550158079173, 0.19959470401937573, -1.6008676949505525, 0.46610511741196176, -0.13639058617857616, -0.3344413769791599, -0.6653481102030518, 1.4236207894266955, -0.5656409053547152, -0.41900437926764755, -1.350008234448759, -0.4708549556966988, 1.7908288295817767, 0.1187283287956113, -0.05692729908801925, -0.37625180631994176, -0.012995591879812729, -0.7711651726582309, -0.39400060309839774, 0.3275098996275818, 0.7638307338670949, -0.07253821725711185, -0.7943642755188114, -0.6928998350795023, 1.445059672907449, 0.9911762842613606, 1.5806618440894422, 1.1320910360914773, 0.7958689416053193, 1.499530940284652, 2.114241187852984, 0.6931308878010417, 0.5145949281852493, -0.24835631026929908, -0.3018836166348951, -0.5245539834834326, -1.4744535198772795, 1.4020595401932783, 0.5052698864103864, 0.2741424672819398, -0.8138297527018368, 0.3302890357237286, 1.4144484868663307, 0.9976224865629032, 0.38977661362710325, 0.2791827992461906, -2.6039782583725253, -0.737391996513252, 0.8855438212111841, -0.730357183021105, 0.013308828374506691, 2.0156930688649464, 0.9489086915530633, 0.32902436464439194, -0.5467501650994854, 0.1636244369083158, -1.0869572419760969, -0.1286900755333611, -0.30705699799004993, -0.41955704229973806, -0.6943042832644676, 0.8513873881119757, -0.10043463171893008, -0.10100306854362574, 0.522493536734941, -0.14111607330085707, -2.653272691349897, -0.5143628975892561, -0.5552871842912509, -1.2610978897145197, 0.05829721193132533, 0.6939153875445433, -1.9176855995956645, -1.5914508013002684, 1.5729400246513707, -0.006876093294219408, -1.4102438107691526, -0.42973621168051984, 0.0017106594375202553, 0.7412797649867638, 0.835841135723178, 0.12930215630143016, -0.5866035923489419, -0.1300661418831957, -0.4062017653367499, -0.6434458229985242, 0.13618488965798287, -0.06994127019341828, 0.6462873623429849, 0.7396270359117045, -0.18780936128709513, 0.3935377918404947, 0.45394946601333935, 1.1305769120961016, -0.32192842057371074, 1.417378254659093, 1.8376360607829063, 1.8533241363792021, -0.024229936878801366, -0.28683045537308643, 0.5574533031822977, 1.0523916951058594, -1.6021434978302431, -1.2608065019054746, -0.17330689498410792, 1.0718534175870473, 0.809184821365488, 0.09897409466056041, 1.576529094895359, -0.9744748747971198, 0.9872341745931512, -1.3001659170160575, -0.01741393396899605, -0.7998612402908042, 0.919645885252438, -0.572949196495489, -0.08838728164285999, -0.9179733967309248, -2.583398607294771, 0.13478156039609496, 0.9310211197465282, -0.5710482404895032, 0.2171593071536233, 0.5164800460373832, 0.9793510018825988, 1.5354528050862597, 2.0476931436089436, 0.5720345138662357, 0.9359277170782093, -1.3974913711984966, -0.4723014955223824, 0.47233250549741346, 0.6509758748808698, -0.9530051862346428, 0.4994746178981062, -0.5948592293731444, 0.2823879536113736, 1.3057161291462571, 0.03659219958333835, 0.1243520298823653, -0.18638047145992337, -0.7993626068376973, -0.3205189642206014, -0.34071997354812744, 1.261859462474606, -1.413114836002868, 1.0942035580157132, 0.12362974406685048, -0.5195327629270861, -0.053542270581982764, 0.4393073341654386, 0.2959761765107725, 1.902167231177544, -0.5924398587628784, -0.28878828201873824, -0.5541033567789959, 1.3208257932476257, -0.3246536832415526, 0.5893054799068169, -0.439218969625836, -1.1163648421593488, 0.11574411059556212, -1.1475281366021477, -0.6039104874038494, -0.5144961718605531, 1.4144046782790296, -0.5137892526125282, 0.494187543422115, -0.5897132689007736, -0.6397885298604593, -1.105908526137197, 0.5530839027543494, -0.11090775375427255, -1.0431548163726143, 1.5536693950662843, 0.68169378898009, -0.08544454777810258, 2.4471977196492665, 0.5204212426675475, -0.04209065678436969]\n"
          ]
        }
      ]
    },
    {
      "cell_type": "code",
      "source": [
        "print(indice.fetch(ids=[\"c\"]))\n",
        "#0.409804225 primeiro valor do indice c"
      ],
      "metadata": {
        "id": "OTAtXJFCrQnh"
      },
      "execution_count": null,
      "outputs": []
    },
    {
      "cell_type": "code",
      "source": [
        "response = indice.fetch(ids=[\"c\"])\n",
        "if 'vctors' in response and 'c' in response['vectors']:\n",
        "  retorna_valor = response['vectors']['c']['values']\n",
        "  atualiza_valor = response[x + 1 for x in retorna_valor]\n",
        "  indice.upset(vectors=[('c', atualiza_valor)])\n",
        "  print(indice.fetch(ids=['c']))\n",
        "else:\n",
        "  print('Vetor não encontrado!')"
      ],
      "metadata": {
        "id": "34ver-9_tSe_"
      },
      "execution_count": null,
      "outputs": []
    },
    {
      "cell_type": "code",
      "source": [
        "indice.delete(ids=['d','e'])"
      ],
      "metadata": {
        "colab": {
          "base_uri": "https://localhost:8080/"
        },
        "id": "asHbsh6RucdF",
        "outputId": "76bc8b1d-75a0-4564-ba5e-0cb05167fcf9"
      },
      "execution_count": 18,
      "outputs": [
        {
          "output_type": "execute_result",
          "data": {
            "text/plain": [
              "{}"
            ]
          },
          "metadata": {},
          "execution_count": 18
        }
      ]
    },
    {
      "cell_type": "code",
      "source": [
        "print(indice.fetch(ids=['d','e']))"
      ],
      "metadata": {
        "colab": {
          "base_uri": "https://localhost:8080/"
        },
        "id": "sp7Fi90Yut8X",
        "outputId": "eaef4515-3408-474e-f9cf-b76fcd35d6c2"
      },
      "execution_count": 19,
      "outputs": [
        {
          "output_type": "stream",
          "name": "stdout",
          "text": [
            "{'namespace': '', 'usage': {'read_units': 1}, 'vectors': {}}\n"
          ]
        }
      ]
    },
    {
      "cell_type": "code",
      "source": [
        "print(indice.describe_index_stats()) #descrição dos indices"
      ],
      "metadata": {
        "colab": {
          "base_uri": "https://localhost:8080/"
        },
        "id": "wcvsb2k2u02Q",
        "outputId": "6cf3c70a-def3-4534-b716-3a890ce045e7"
      },
      "execution_count": 21,
      "outputs": [
        {
          "output_type": "stream",
          "name": "stdout",
          "text": [
            "{'dimension': 2048,\n",
            " 'index_fullness': 0.0,\n",
            " 'namespaces': {'': {'vector_count': 3}},\n",
            " 'total_vector_count': 3}\n"
          ]
        }
      ]
    },
    {
      "cell_type": "code",
      "source": [
        "indice.upsert(vectors=list(zip(ids, vetores)), namespace=\"namespace1\") # se não for definido o namespace será criado um namespace em branco\n",
        "indice.upsert(vectors=list(zip([\"x\", \"y\", \"z\"],\n",
        "                                [np.random.normal(0, 1, 2048).tolist() for _ in range(3)])),\n",
        "                                 namespace=\"namespace2\")# criando segundo namespace com 3 indices"
      ],
      "metadata": {
        "colab": {
          "base_uri": "https://localhost:8080/"
        },
        "id": "oWOx7dTvu6dW",
        "outputId": "234337d8-72aa-4c62-8dcc-c727d79e9038"
      },
      "execution_count": 23,
      "outputs": [
        {
          "output_type": "execute_result",
          "data": {
            "text/plain": [
              "{'upserted_count': 3}"
            ]
          },
          "metadata": {},
          "execution_count": 23
        }
      ]
    },
    {
      "cell_type": "code",
      "source": [],
      "metadata": {
        "id": "Kmx--ViwxQvp"
      },
      "execution_count": null,
      "outputs": []
    }
  ]
}