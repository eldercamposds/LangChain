{
  "nbformat": 4,
  "nbformat_minor": 0,
  "metadata": {
    "colab": {
      "provenance": [],
      "mount_file_id": "1VEDCAfG-axxZKG4hNOgdSedbJY1otN0W",
      "authorship_tag": "ABX9TyPurqp1dY34AYvJVuaiXMgl",
      "include_colab_link": true
    },
    "kernelspec": {
      "name": "python3",
      "display_name": "Python 3"
    },
    "language_info": {
      "name": "python"
    }
  },
  "cells": [
    {
      "cell_type": "markdown",
      "metadata": {
        "id": "view-in-github",
        "colab_type": "text"
      },
      "source": [
        "<a href=\"https://colab.research.google.com/github/eldercamposds/LangChain/blob/Gemini/RelatorioFinanceiroGemini.ipynb\" target=\"_parent\"><img src=\"https://colab.research.google.com/assets/colab-badge.svg\" alt=\"Open In Colab\"/></a>"
      ]
    },
    {
      "cell_type": "markdown",
      "source": [
        "#Setup"
      ],
      "metadata": {
        "id": "cnGV93J9Cmun"
      }
    },
    {
      "cell_type": "code",
      "source": [
        "!pip install langchain_google_genai"
      ],
      "metadata": {
        "id": "nzjuG7VwD0EC"
      },
      "execution_count": null,
      "outputs": []
    },
    {
      "cell_type": "code",
      "source": [
        "!pip install langchain"
      ],
      "metadata": {
        "id": "B4RRPvHkDkJU"
      },
      "execution_count": null,
      "outputs": []
    },
    {
      "cell_type": "code",
      "execution_count": null,
      "metadata": {
        "id": "zWJ65DSWCjHK"
      },
      "outputs": [],
      "source": [
        "from langchain_google_genai import ChatGoogleGenerativeAI\n",
        "from langchain.prompts import PromptTemplate\n",
        "import os\n",
        "import yaml"
      ]
    },
    {
      "cell_type": "code",
      "source": [
        "with open('/content/drive/MyDrive/Colab Notebooks/LangChain/config.yaml', 'r') as config_file:\n",
        "    config = yaml.safe_load(config_file)\n",
        "os.environ['GOOGLE_API_KEY'] = config['google_api_key']\n",
        "\n",
        "googleai = ChatGoogleGenerativeAI(model=\"gemini-pro\")"
      ],
      "metadata": {
        "id": "wJUtMnSdDeQy"
      },
      "execution_count": null,
      "outputs": []
    },
    {
      "cell_type": "code",
      "source": [
        "template = \"\"\"\n",
        "Você é um analista financeiro.\n",
        "Escrva um relatório fianceiro detalhado para a empresa \"{empresa}\" para o período {periodo}.\n",
        "\n",
        "O relatório de ser escrito em {idioma} e incluir as seguintes análises:\n",
        "{analises}\n",
        "\n",
        "Certifique-se de fornecer insights e conclusões para cada seção.\n",
        "Formate o relatório utilizando Markdown.\n",
        "\"\"\""
      ],
      "metadata": {
        "id": "qJwpDhdsE4lJ"
      },
      "execution_count": null,
      "outputs": []
    },
    {
      "cell_type": "code",
      "source": [
        "prompt_template = PromptTemplate.from_template(template)"
      ],
      "metadata": {
        "id": "xLWbMAnvFmTe"
      },
      "execution_count": null,
      "outputs": []
    },
    {
      "cell_type": "code",
      "source": [
        "empresa=\"ACME Corp\"\n",
        "periodo=\"Q1 2024\"\n",
        "idioma=\"Português\"\n",
        "analises=[\n",
        "    \"Análise de balanço patrimonial\",\n",
        "    \"Análise de fluxo de caixa\",\n",
        "    \"Análise de tendências\",\n",
        "    \"Análise de receita e lucro\",\n",
        "    \"Análise de posição de mercado\"\n",
        "]\n",
        "analises_text = \"\\n\".join([f\"- {analises}\" for analise in analises])"
      ],
      "metadata": {
        "id": "PMvkZjTmFuFh"
      },
      "execution_count": null,
      "outputs": []
    },
    {
      "cell_type": "code",
      "source": [
        "prompt = prompt_template.format(\n",
        "    empresa=empresa,\n",
        "    periodo=periodo,\n",
        "    idioma=idioma,\n",
        "    analises=analises_text\n",
        ")"
      ],
      "metadata": {
        "id": "79K-eNF0GOre"
      },
      "execution_count": null,
      "outputs": []
    },
    {
      "cell_type": "code",
      "source": [
        "response = googleai.invoke(prompt)\n",
        "print(\"Relatótio Financeiro: \\n\", response.content)"
      ],
      "metadata": {
        "colab": {
          "base_uri": "https://localhost:8080/"
        },
        "id": "wS3t9LMBGl7M",
        "outputId": "207d1e37-fc31-4db4-9295-4839468583ab"
      },
      "execution_count": null,
      "outputs": [
        {
          "output_type": "stream",
          "name": "stdout",
          "text": [
            "Relatótio Financeiro: \n",
            " **Relatório Financeiro - ACME Corp**\n",
            "**Q1 2024**\n",
            "\n",
            "**Análise de Balanço Patrimonial**\n",
            "\n",
            "* **Ativos:** Aumento de 10% em relação ao trimestre anterior, impulsionado principalmente por um aumento nos estoques e recebíveis.\n",
            "* **Passivos:** Pequeno aumento de 5%, devido a um aumento nos passivos correntes, compensado por uma diminuição nos passivos de longo prazo.\n",
            "* **Patrimônio Líquido:** Aumento significativo de 20%, atribuído aos lucros retidos e à emissão de novas ações.\n",
            "\n",
            "**Conclusão:** O balanço patrimonial da ACME Corp é sólido, com um aumento nos ativos e patrimônio líquido. No entanto, o aumento nos passivos correntes deve ser monitorado de perto.\n",
            "\n",
            "**Análise de Fluxo de Caixa**\n",
            "\n",
            "* **Fluxo de Caixa Operacional:** Aumento de 15% em relação ao trimestre anterior, impulsionado por um aumento nas vendas e uma gestão eficiente de capital de giro.\n",
            "* **Fluxo de Caixa de Investimento:** Investimentos significativos em ativos de capital, resultando em um fluxo de caixa negativo.\n",
            "* **Fluxo de Caixa de Financiamento:** Emissão de novas ações, compensada pelo pagamento de dívidas, resultando em um fluxo de caixa positivo.\n",
            "\n",
            "**Conclusão:** O fluxo de caixa da ACME Corp é positivo e estável, permitindo que ela financie investimentos e reduza a dívida.\n",
            "\n",
            "**Análise de Tendências**\n",
            "\n",
            "* **Receita:** Crescimento constante nos últimos trimestres, impulsionado pela expansão do mercado e pelo lançamento de novos produtos.\n",
            "* **Lucro Bruto:** Margens de lucro bruto estáveis, indicando eficiência operacional.\n",
            "* **Lucro Líquido:** Aumento significativo no lucro líquido, atribuído ao aumento da receita e à gestão de custos.\n",
            "\n",
            "**Conclusão:** As tendências financeiras da ACME Corp são positivas, com crescimento contínuo na receita e lucratividade.\n",
            "\n",
            "**Análise de Receita e Lucro**\n",
            "\n",
            "* **Receita:** Aumento de 12% em relação ao trimestre anterior, superando as estimativas dos analistas.\n",
            "* **Custo das Mercadorias Vendidas:** Pequeno aumento, devido a pressões inflacionárias.\n",
            "* **Despesas Operacionais:** Aumento controlado, atribuído a investimentos em pesquisa e desenvolvimento.\n",
            "\n",
            "**Conclusão:** A ACME Corp está gerando receitas fortes e gerenciando custos efetivamente, resultando em lucros crescentes.\n",
            "\n",
            "**Análise de Posição de Mercado**\n",
            "\n",
            "* **Participação de Mercado:** Manutenção da participação de mercado líder no setor.\n",
            "* **Concorrência:** Aumento da concorrência de novos participantes, mas a ACME Corp permanece bem posicionada com sua marca forte e produtos diferenciados.\n",
            "* **Tendências do Setor:** Crescimento contínuo no setor, impulsionado por novas tecnologias e mudanças nas preferências do consumidor.\n",
            "\n",
            "**Conclusão:** A ACME Corp tem uma posição de mercado forte e está bem posicionada para continuar crescendo no cenário competitivo.\n"
          ]
        }
      ]
    },
    {
      "cell_type": "code",
      "source": [],
      "metadata": {
        "id": "SwzYT_HgJpzj"
      },
      "execution_count": null,
      "outputs": []
    }
  ]
}